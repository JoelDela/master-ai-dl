{
 "cells": [
  {
   "cell_type": "markdown",
   "metadata": {
    "Collapsed": "false"
   },
   "source": [
    "# Word Embeddings\n",
    "\n",
    "## ¿Cómo representamos palabras, oraciones y significados en NLP?"
   ]
  },
  {
   "cell_type": "markdown",
   "metadata": {
    "Collapsed": "false"
   },
   "source": [
    "## ¿Qué es una palabra?\n",
    "\n",
    "\n",
    "![](img/words.png)\n",
    "\n",
    "Cuando hablamos de palabras, podemos distinguir dos conceptos diferentes:\n",
    "\n",
    "- **ocurrencia** (*token*) se refiere a una observación de una palabra en una cadena de texto. \n",
    "\n",
    "    Como hemos visto, en algunas lenguas es más o menos complejo identificar los límites de las palabras, pero en la mayoría de las lenguas occidentales y de nuestro entorno se utilizan espacios y otros signos de puntuación para delimitar las palabras.\n",
    "\n",
    "- **tipo** (*type*) es la representación abstracta de una palabra. Cad **ocurrencia** pertenece a un **tipo** de palabra. Cuando contamos la frecuencia de las palabras de un *corpus* o colección de textos, lo que hacemos es contar el número de ocurrencias que tiene cada tipo."
   ]
  },
  {
   "cell_type": "code",
   "execution_count": 7,
   "metadata": {
    "Collapsed": "false"
   },
   "outputs": [
    {
     "name": "stdout",
     "output_type": "stream",
     "text": [
      "['No', 'hubo', 'sorpresa', 'en', 'Bruselas', '.', '621', 'votos', 'a', 'favor', ',', '49', 'en', 'contra', '(', 'los', \"'remainers\", \"'\", 'británicos', 'entre', 'ellos', ')', 'y', '13', 'abstenciones', '.']\n",
      "['MEPs', 'ratified', 'the', 'Brexit', 'Withdrawal', 'Agreement', 'by', '621', 'votes', 'to', '49', 'following', 'an', 'emotional', 'debate', 'in', 'Brussels', '.']\n",
      "['環太平洋造山帯に属する小スンダ列島の西端に位置している。']\n"
     ]
    }
   ],
   "source": [
    "from nltk import word_tokenize\n",
    "\n",
    "texts = [\n",
    "    \"\"\"No hubo sorpresa en Bruselas. 621 votos a favor, 49 en contra (los 'remainers' británicos entre ellos) y 13 abstenciones.\"\"\",\n",
    "    \"\"\"MEPs ratified the Brexit Withdrawal Agreement by 621 votes to 49 following an emotional debate in Brussels.\"\"\",\n",
    "    \"\"\"環太平洋造山帯に属する小スンダ列島の西端に位置している。\"\"\"\n",
    "]\n",
    "\n",
    "for text in texts:\n",
    "    print(word_tokenize(text))"
   ]
  },
  {
   "cell_type": "code",
   "execution_count": 8,
   "metadata": {
    "Collapsed": "false"
   },
   "outputs": [
    {
     "name": "stdout",
     "output_type": "stream",
     "text": [
      "['🎉¡', '#', 'SORTEO', '!', 'Gana', 'una', 'tostadora', 'YummyToast', 'Double', '.', '🎁', '▪️Síguenos', '.', '▪️Comenta', 'mencionando', 'a', '2', 'amigos', 'junto', 'a', '#', 'Cecotec', '.', 'Tienes', 'hasta', 'el', '9', 'de', 'febrero', 'para', 'participar', '.', 'El', 'regalo', 'se', 'sorteará', 'aleatoriamente', 'entre', 'los', 'participantes', '.', '¡Mucha', 'suerte', '!', '.']\n",
      "['we', 'play', 'for', 'y', '’', 'all', '🏀‼️🖤', 'https', ':', '//t.co/sd12vW93', '#', 'MambaMentality']\n"
     ]
    }
   ],
   "source": [
    "tweets = [\n",
    "    \"\"\"🎉¡#SORTEO! Gana una tostadora YummyToast Double. 🎁 \n",
    "▪️Síguenos. \n",
    "▪️Comenta mencionando a 2 amigos junto a #Cecotec.\n",
    "Tienes hasta el 9 de febrero para participar. El regalo se sorteará aleatoriamente entre los participantes. ¡Mucha suerte!.\"\"\",\n",
    "    \"\"\"we play for y’all 🏀‼️🖤 https://t.co/sd12vW93 #MambaMentality\"\"\"\n",
    "]\n",
    "\n",
    "for tweet in tweets:\n",
    "    print(word_tokenize(tweet))"
   ]
  },
  {
   "cell_type": "code",
   "execution_count": 10,
   "metadata": {
    "Collapsed": "false"
   },
   "outputs": [
    {
     "name": "stdout",
     "output_type": "stream",
     "text": [
      "['No', 'hubo', 'sorpresa', 'en', 'Bruselas', '.', '621', 'votos', 'a', 'favor', ',', '49', 'en', 'contra', '(', 'los', \"'\", 'remainers', \"'\", 'británicos', 'entre', 'ellos', ')', 'y', '13', 'abstenciones', '.']\n",
      "['MEPs', 'ratified', 'the', 'Brexit', 'Withdrawal', 'Agreement', 'by', '621', 'votes', 'to', '49', 'following', 'an', 'emotional', 'debate', 'in', 'Brussels', '.']\n",
      "['環太平洋造山帯に属する小スンダ列島の西端に位置している', '。']\n",
      "['🎉', '¡', '#SORTEO', '!', 'Gana', 'una', 'tostadora', 'YummyToast', 'Double', '.', '🎁', '▪', '️', 'Síguenos', '.', '▪', '️', 'Comenta', 'mencionando', 'a', '2', 'amigos', 'junto', 'a', '#Cecotec', '.', 'Tienes', 'hasta', 'el', '9', 'de', 'febrero', 'para', 'participar', '.', 'El', 'regalo', 'se', 'sorteará', 'aleatoriamente', 'entre', 'los', 'participantes', '.', '¡', 'Mucha', 'suerte', '!', '.']\n",
      "['we', 'play', 'for', 'y', '’', 'all', '🏀', '‼', '️', '🖤', 'https://t.co/sd12vW93', '#MambaMentality']\n"
     ]
    }
   ],
   "source": [
    "from nltk.tokenize import TweetTokenizer\n",
    "\n",
    "tokenizer = TweetTokenizer()\n",
    "\n",
    "for text in texts:\n",
    "    print(tokenizer.tokenize(text))\n",
    "    \n",
    "for tweet in tweets:\n",
    "    print(tokenizer.tokenize(tweet))"
   ]
  },
  {
   "cell_type": "code",
   "execution_count": null,
   "metadata": {
    "Collapsed": "false"
   },
   "outputs": [],
   "source": [
    "import spacy\n",
    "\n",
    "nlp = spacy.load(\"en_core_web_sm\")\n",
    "\n",
    "for text in texts + tweets:\n",
    "    doc = nlp(text)\n",
    "    tokens = [token.text for token in doc]\n",
    "    print(tokens)"
   ]
  },
  {
   "cell_type": "markdown",
   "metadata": {
    "Collapsed": "false"
   },
   "source": [
    "## Palabras como elementos discretos\n",
    "\n",
    "La manera más sencilla de representar palabras es como una secuencia ordenada de caracteres.\n",
    "\n",
    "Comprobar si dos palabras son idénticas es lento :-(\n",
    "Las palabras también se pueden tener una representación discreta si usamos números enteros arbitrarios como identificadores únicos.\n",
    "Todas las palabras ocupan lo mismo :-)\n",
    "Comprobar si dos palabras son iguales es rapidísimo :-)\n",
    "Estos identificadores no significan nada :-(\n",
    "No hay manera de relacionar palabras similares atendiendo a su identificador :-(\n"
   ]
  },
  {
   "cell_type": "markdown",
   "metadata": {
    "Collapsed": "false"
   },
   "source": [
    "> “You shall know a word by the company it keeps.”\n",
    "> — John R. Firth (1957)\n",
    ">\n",
    ">“The meaning of a word is its use in the language (…) One cannot guess how a word functions. One has to look at its use, and learn from that.”\n",
    ">— Ludwig Wittgenstein (1953)\n",
    "\n",
    "\n",
    "The fact that we can analyze the use of words in language to deduce their meaning is a fundamental idea of distributional semantics called the “distributional hypothesis”. This is the inspiration behind many algorithms for learning numerical representations of words (also called word embeddings).\n",
    "\n",
    "Dos posibles definiciones de palabra:\n",
    "caso (token): cada una de las observaciones de una palabra en un texto.\n",
    "tipo (type): la palabra en abstracto. "
   ]
  }
 ],
 "metadata": {
  "kernelspec": {
   "display_name": "Python 3",
   "language": "python",
   "name": "python3"
  },
  "language_info": {
   "codemirror_mode": {
    "name": "ipython",
    "version": 3
   },
   "file_extension": ".py",
   "mimetype": "text/x-python",
   "name": "python",
   "nbconvert_exporter": "python",
   "pygments_lexer": "ipython3",
   "version": "3.7.6"
  }
 },
 "nbformat": 4,
 "nbformat_minor": 4
}
