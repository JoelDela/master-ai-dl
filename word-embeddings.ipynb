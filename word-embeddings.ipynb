{
 "cells": [
  {
   "cell_type": "markdown",
   "metadata": {
    "Collapsed": "false"
   },
   "source": [
    "# Word Embeddings\n",
    "## How do we represent words, sentences and their meaning in NLP?\n",
    "\n",
    "\n",
    "> “You shall know a word by the company it keeps.”\n",
    "> — John R. Firth (1957)\n",
    ">\n",
    ">“The meaning of a word is its use in the language (…) One cannot guess how a word functions. One has to look at its use, and learn from that.”\n",
    ">— Ludwig Wittgenstein (1953)\n",
    "\n",
    "\n",
    "The fact that we can analyze the use of words in language to deduce their meaning is a fundamental idea of distributional semantics called the “distributional hypothesis”. This is the inspiration behind many algorithms for learning numerical representations of words (also called word embeddings).\n",
    "\n",
    "\n",
    "\n",
    "Dos posibles definiciones de palabra:\n",
    "caso (token): cada una de las observaciones de una palabra en un texto.\n",
    "tipo (type): la palabra en abstracto. "
   ]
  }
 ],
 "metadata": {
  "kernelspec": {
   "display_name": "Python 3",
   "language": "python",
   "name": "python3"
  },
  "language_info": {
   "codemirror_mode": {
    "name": "ipython",
    "version": 3
   },
   "file_extension": ".py",
   "mimetype": "text/x-python",
   "name": "python",
   "nbconvert_exporter": "python",
   "pygments_lexer": "ipython3",
   "version": "3.7.5"
  }
 },
 "nbformat": 4,
 "nbformat_minor": 4
}
