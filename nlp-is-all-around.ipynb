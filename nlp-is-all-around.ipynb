{
 "cells": [
  {
   "cell_type": "markdown",
   "metadata": {
    "Collapsed": "false"
   },
   "source": [
    "# Estás rodeado de NLP\n",
    "\n",
    "Subcampo de la IA que se encarga de mejorar la interacción entre humanos y máquinas usando lenguaje natural.\n",
    "\n",
    "NLP = NLU + NLG\n",
    "\n",
    "Área multidisciplinar: ingeniería, lingüística, estadística, psicología.\n",
    "\n",
    "![](img/nlp-around.png)\n"
   ]
  },
  {
   "cell_type": "markdown",
   "metadata": {
    "Collapsed": "false"
   },
   "source": [
    "## Disciplinas de la Lingüística\n",
    "\n",
    "![](img/linguistics.png)\n",
    "\n",
    "\n",
    "## Tareas de NLP\n",
    "\n",
    "- Desambiguación semántica (*word sense disambiguation*) y reconocimiento de entidades (*named entities recognition*): [Natural Language API](https://cloud.google.com/natural-language/?hl=es) y [Meaning Cloud](https://www.meaningcloud.com/es/demos/demo-analitica-textos)\n",
    "\n",
    "- Análisis morfo-sintáctico (*[PoS tagging](http://nbviewer.ipython.org/gist/vitojph/5465948)/[parsing](http://nbviewer.ipython.org/gist/vitojph/5524353)*)\n",
    "\n",
    "- Traducción automática (*machine translation*): [Google Translate](http://translate.google.es)\n",
    "\n",
    "- Extracción de información (*information extraction*): [TripIt](https://www.tripit.com/) y los [bundles de Inbox](https://support.google.com/inbox/answer/6228360?hl=en)\n",
    "\n",
    "- Reconocimiento del habla (*automatic speech reconition*) y síntesis de voz (*speech synthesis*): [Google Speech API](https://www.google.com/intl/es/chrome/demos/speech.html)\n",
    "\n",
    "- Recuperación de información (*information retrieval*): [Google Search](https://support.google.com/websearch/answer/134479?hl=en&ref_topic=3081620),\n",
    "  [Bing](http://www.bing.com) y [Wolfram|Alpha](https://www.wolframalpha.com/examples/)\n",
    "\n",
    "- Resumen automático (*automatic summarization*) y generación automática de textos: [Quakebot](http://www.latimes.com/local/earthquakes/) y [Automated Insights](http://automatedinsights.com/)\n",
    "\n",
    "- Búsqueda de respuestas (*question answering*): tímidos intentos de [Google](https://www.google.es/?gfe_rd=cr&ei=MMHyV_uRNO2gzAbS7ITIDw#q=cu%C3%A1nto+mide+torre+picasso) o [Bing](https://www.bing.com/search?q=d%c3%b3nde+est%c3%a1+pamplona&qs=HS&pq=d%c3%b3nde+es&sc=8-8&sp=1&cvid=551C10183EB545CA92783A664393826F&FORM=QBRE) y, sobre todo, [Watson](http://www.youtube.com/watch?v=WFR3lOm_xhE)\n",
    "\n",
    "- Análisis de opiniones (*sentiment analysis*) y gestión de la reputación online (*online reputation management*): [Bitext](https://www.bitext.com/sentiment-analysis/) y [Atribus](https://www.atribus.com/).\n",
    "\n",
    "- Comprensión del lenguaje natural (*natural language understanding*): [Siri](https://www.apple.com/es/ios/siri/), [Google Assistant](https://assistant.google.com/intl/es_es/), [Cortana](https://www.microsoft.com/es-es/windows/cortana) y [Aura](https://aura.telefonica.com/espana).\n",
    "\n",
    "\n",
    "## Problemas resueltos y cuestiones abiertas\n",
    "\n",
    "![Language Technologies Progress, according to Stanford NLP](img/langtech-progress.png)\n",
    "\n",
    "\n",
    "# ¿Por qué es tan difícil el PLN?\n",
    "\n",
    "El lenguaje natural es eminentemente **ambiguo**. Esta es la principal diferencia entre lenguas naturales y lenguajes artificiales.\n",
    "  \n",
    "Esta ambigüedad existe a varios niveles:\n",
    "\n",
    "- ambigüedad fonética y fonológica: *vaca/baca*, *casa/caza*, *has sido tú/has ido tú*\n",
    "\n",
    "- ambigüedad morfológica: *casa, beso, río, bajo*\n",
    "\n",
    "- ambigüedad sintáctica: *Ayer me encontré a tu padre corriendo* \n",
    "\n",
    "- ambigüedad semántica: *banco*, *pie*, etc.\n",
    "\n",
    "- ambigüedad de discurso: correferencia, resolución de anáforas.\n"
   ]
  }
 ],
 "metadata": {
  "kernelspec": {
   "display_name": "Python 3",
   "language": "python",
   "name": "python3"
  },
  "language_info": {
   "codemirror_mode": {
    "name": "ipython",
    "version": 3
   },
   "file_extension": ".py",
   "mimetype": "text/x-python",
   "name": "python",
   "nbconvert_exporter": "python",
   "pygments_lexer": "ipython3",
   "version": "3.7.6"
  }
 },
 "nbformat": 4,
 "nbformat_minor": 4
}
