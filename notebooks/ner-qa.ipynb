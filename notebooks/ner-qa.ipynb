{
 "cells": [
  {
   "cell_type": "markdown",
   "metadata": {
    "Collapsed": "false"
   },
   "source": [
    "# Reconocimiento de Entidades\n",
    "\n",
    "El [reconocimiento de entidades](https://paperswithcode.com/task/named-entity-recognition-ner) es la tarea de Procesamiento del Lenguaje que consiste en procesar un texto de entrada en lenguaje natural, identificar las menciones que hacen referencia a entidades del mundo real y clasificarlas por tipos predefinidos.\n",
    "\n",
    "Un sistema de reconocimiento generalista normalmente será capaz de identificar menciones que hagan referencia a personas, organizaciones, lugares, fechas, expresiones temporales, precios, cantidades, etc.\n",
    "\n",
    "El [API Natural Language de Google](https://cloud.google.com/natural-language) funciona muy bien. \n",
    "\n",
    "![](../img/google-ner.png)\n"
   ]
  },
  {
   "cell_type": "markdown",
   "metadata": {
    "Collapsed": "false"
   },
   "source": [
    "## spaCy\n",
    "\n",
    "[spaCy](https://spacy.io) es una librería de procesamiento del lenguaje natural, robusta, rápida, fácil de instalar y utilizar e integrable con [otras librerías de NLP y de deep learning](https://spacy.io/universe).\n",
    "\n",
    "Dispone de [modelos entrenados en varias lenguas y con distinto tamaños](https://spacy.io/usage/models) y funcionalidades, y permite realizar las típicas tareas de segmentación por oraciones, tokenizanción, análisis morfológico, extracción de entidades y análisis de opinión.\n"
   ]
  },
  {
   "cell_type": "code",
   "execution_count": 1,
   "metadata": {
    "Collapsed": "false"
   },
   "outputs": [],
   "source": [
    "import spacy\n",
    "\n",
    "# cargamos el modelo entrenado en español\n",
    "nlp_en = spacy.load(\"en_core_web_md\")\n",
    "\n",
    "# cargamos el modelo entrenado en español\n",
    "nlp_es = spacy.load(\"es_core_news_md\")"
   ]
  },
  {
   "cell_type": "code",
   "execution_count": 2,
   "metadata": {
    "Collapsed": "false"
   },
   "outputs": [],
   "source": [
    "texto = \"\"\"España incumple la regla del déficit del euro y queda como único país bajo el control de Bruselas. \n",
    "España no aprobará finalmente la regla europa del déficit y se quedará como único país de la Eurozona que \n",
    "suspende y sigue bajo vigilancia. El Gobierno se salta finalmente el requisito de saneamiento presupuestario \n",
    "del Tratado de Maastricht y obtiene así más margen de gasto en 2018.\"\"\"\n",
    "\n",
    "# y procesamos el texto\n",
    "doc = nlp_es(texto)"
   ]
  },
  {
   "cell_type": "code",
   "execution_count": 3,
   "metadata": {
    "Collapsed": "false"
   },
   "outputs": [
    {
     "name": "stdout",
     "output_type": "stream",
     "text": [
      "(Bruselas, España, Eurozona, El Gobierno, Tratado de Maastricht)\n",
      "Bruselas es de tipo LOC\n",
      "España es de tipo LOC\n",
      "Eurozona es de tipo LOC\n",
      "El Gobierno es de tipo PER\n",
      "Tratado de Maastricht es de tipo MISC\n"
     ]
    }
   ],
   "source": [
    "print(doc.ents)\n",
    "\n",
    "for entity in doc.ents:\n",
    "    print(f\"{entity} es de tipo {entity.label_}\")"
   ]
  },
  {
   "cell_type": "code",
   "execution_count": 4,
   "metadata": {
    "Collapsed": "false"
   },
   "outputs": [
    {
     "name": "stderr",
     "output_type": "stream",
     "text": [
      "/home/victor/.conda/envs/nlp/lib/python3.6/runpy.py:193: UserWarning: [W011] It looks like you're calling displacy.serve from within a Jupyter notebook or a similar environment. This likely means you're already running a local web server, so there's no need to make displaCy start another one. Instead, you should be able to replace displacy.serve with displacy.render to show the visualization.\n",
      "  \"__main__\", mod_spec)\n"
     ]
    },
    {
     "data": {
      "text/html": [
       "<!DOCTYPE html>\n",
       "<html lang=\"es\">\n",
       "    <head>\n",
       "        <title>displaCy</title>\n",
       "    </head>\n",
       "\n",
       "    <body style=\"font-size: 16px; font-family: -apple-system, BlinkMacSystemFont, 'Segoe UI', Helvetica, Arial, sans-serif, 'Apple Color Emoji', 'Segoe UI Emoji', 'Segoe UI Symbol'; padding: 4rem 2rem; direction: ltr\">\n",
       "<figure style=\"margin-bottom: 6rem\">\n",
       "<div class=\"entities\" style=\"line-height: 2.5; direction: ltr\">España incumple la regla del déficit del euro y queda como único país bajo el control de \n",
       "<mark class=\"entity\" style=\"background: #ff9561; padding: 0.45em 0.6em; margin: 0 0.25em; line-height: 1; border-radius: 0.35em; box-decoration-break: clone; -webkit-box-decoration-break: clone\">\n",
       "    Bruselas\n",
       "    <span style=\"font-size: 0.8em; font-weight: bold; line-height: 1; border-radius: 0.35em; text-transform: uppercase; vertical-align: middle; margin-left: 0.5rem\">LOC</span>\n",
       "</mark>\n",
       ". </br>\n",
       "<mark class=\"entity\" style=\"background: #ff9561; padding: 0.45em 0.6em; margin: 0 0.25em; line-height: 1; border-radius: 0.35em; box-decoration-break: clone; -webkit-box-decoration-break: clone\">\n",
       "    España\n",
       "    <span style=\"font-size: 0.8em; font-weight: bold; line-height: 1; border-radius: 0.35em; text-transform: uppercase; vertical-align: middle; margin-left: 0.5rem\">LOC</span>\n",
       "</mark>\n",
       " no aprobará finalmente la regla europa del déficit y se quedará como único país de la \n",
       "<mark class=\"entity\" style=\"background: #ff9561; padding: 0.45em 0.6em; margin: 0 0.25em; line-height: 1; border-radius: 0.35em; box-decoration-break: clone; -webkit-box-decoration-break: clone\">\n",
       "    Eurozona\n",
       "    <span style=\"font-size: 0.8em; font-weight: bold; line-height: 1; border-radius: 0.35em; text-transform: uppercase; vertical-align: middle; margin-left: 0.5rem\">LOC</span>\n",
       "</mark>\n",
       " que </br>suspende y sigue bajo vigilancia. \n",
       "<mark class=\"entity\" style=\"background: #ddd; padding: 0.45em 0.6em; margin: 0 0.25em; line-height: 1; border-radius: 0.35em; box-decoration-break: clone; -webkit-box-decoration-break: clone\">\n",
       "    El Gobierno\n",
       "    <span style=\"font-size: 0.8em; font-weight: bold; line-height: 1; border-radius: 0.35em; text-transform: uppercase; vertical-align: middle; margin-left: 0.5rem\">PER</span>\n",
       "</mark>\n",
       " se salta finalmente el requisito de saneamiento presupuestario </br>del \n",
       "<mark class=\"entity\" style=\"background: #ddd; padding: 0.45em 0.6em; margin: 0 0.25em; line-height: 1; border-radius: 0.35em; box-decoration-break: clone; -webkit-box-decoration-break: clone\">\n",
       "    Tratado de Maastricht\n",
       "    <span style=\"font-size: 0.8em; font-weight: bold; line-height: 1; border-radius: 0.35em; text-transform: uppercase; vertical-align: middle; margin-left: 0.5rem\">MISC</span>\n",
       "</mark>\n",
       " y obtiene así más margen de gasto en 2018.</div>\n",
       "</figure>\n",
       "</body>\n",
       "</html>"
      ],
      "text/plain": [
       "<IPython.core.display.HTML object>"
      ]
     },
     "metadata": {},
     "output_type": "display_data"
    },
    {
     "name": "stdout",
     "output_type": "stream",
     "text": [
      "\n",
      "Using the 'ent' visualizer\n",
      "Serving on http://0.0.0.0:5000 ...\n",
      "\n",
      "Shutting down server on port 5000.\n"
     ]
    }
   ],
   "source": [
    "from spacy import displacy\n",
    "\n",
    "displacy.serve(doc, style=\"ent\")"
   ]
  },
  {
   "cell_type": "code",
   "execution_count": 5,
   "metadata": {
    "Collapsed": "false"
   },
   "outputs": [
    {
     "name": "stdout",
     "output_type": "stream",
     "text": [
      "España/España => etiqueta PROPN/PROPN___ y dependencia nsubj\n",
      "incumple/incumplir => etiqueta VERB/VERB__Mood=Ind|Number=Sing|Person=3|Tense=Pres|VerbForm=Fin y dependencia ROOT\n",
      "la/lo => etiqueta DET/DET__Definite=Def|Gender=Fem|Number=Sing|PronType=Art y dependencia det\n",
      "regla/reglar => etiqueta NOUN/NOUN__Gender=Fem|Number=Sing y dependencia obj\n",
      "del/del => etiqueta ADP/ADP__AdpType=Preppron|Gender=Masc|Number=Sing y dependencia case\n",
      "déficit/déficit => etiqueta NOUN/NOUN__Gender=Masc|Number=Sing y dependencia nmod\n",
      "del/del => etiqueta ADP/ADP__AdpType=Preppron|Gender=Masc|Number=Sing y dependencia case\n",
      "euro/euro => etiqueta NOUN/NOUN__Gender=Masc|Number=Sing y dependencia nmod\n",
      "y/y => etiqueta CONJ/CCONJ___ y dependencia cc\n",
      "queda/quedo => etiqueta VERB/VERB__Mood=Ind|Number=Sing|Person=3|Tense=Pres|VerbForm=Fin y dependencia conj\n",
      "como/comer => etiqueta SCONJ/SCONJ___ y dependencia mark\n",
      "único/único => etiqueta ADJ/ADJ__Gender=Masc|Number=Sing y dependencia amod\n",
      "país/país => etiqueta NOUN/NOUN__Gender=Masc|Number=Sing y dependencia obj\n",
      "bajo/bajar => etiqueta ADP/ADP__AdpType=Prep y dependencia case\n",
      "el/el => etiqueta DET/DET__Definite=Def|Gender=Masc|Number=Sing|PronType=Art y dependencia det\n",
      "control/control => etiqueta NOUN/NOUN__Gender=Masc|Number=Sing y dependencia obl\n",
      "de/de => etiqueta ADP/ADP__AdpType=Prep y dependencia case\n",
      "Bruselas/Bruselas => etiqueta PROPN/PROPN___ y dependencia nmod\n",
      "./. => etiqueta PUNCT/PUNCT__PunctType=Peri y dependencia punct\n",
      "\n",
      "/\n",
      " => etiqueta SPACE/_SP y dependencia \n",
      "España/España => etiqueta PROPN/PROPN___ y dependencia nsubj\n",
      "no/no => etiqueta ADV/ADV__Polarity=Neg y dependencia advmod\n",
      "aprobará/aprobar => etiqueta VERB/VERB__Mood=Ind|Number=Sing|Person=3|Tense=Fut|VerbForm=Fin y dependencia ROOT\n",
      "finalmente/finalmente => etiqueta ADV/ADV___ y dependencia advmod\n",
      "la/lo => etiqueta DET/DET__Definite=Def|Gender=Fem|Number=Sing|PronType=Art y dependencia det\n",
      "regla/reglar => etiqueta NOUN/NOUN__Gender=Fem|Number=Sing y dependencia amod\n",
      "europa/europa => etiqueta ADJ/ADJ__Gender=Fem|Number=Sing y dependencia obj\n",
      "del/del => etiqueta ADP/ADP__AdpType=Preppron|Gender=Masc|Number=Sing y dependencia case\n",
      "déficit/déficit => etiqueta NOUN/NOUN__Gender=Masc|Number=Sing y dependencia nmod\n",
      "y/y => etiqueta CONJ/CCONJ___ y dependencia cc\n",
      "se/se => etiqueta PRON/PRON__Person=3 y dependencia obj\n",
      "quedará/quedar => etiqueta VERB/VERB__Mood=Ind|Number=Sing|Person=3|Tense=Fut|VerbForm=Fin y dependencia conj\n",
      "como/comer => etiqueta SCONJ/SCONJ___ y dependencia mark\n",
      "único/único => etiqueta ADJ/ADJ__Gender=Masc|Number=Sing y dependencia amod\n",
      "país/país => etiqueta NOUN/NOUN__Gender=Masc|Number=Sing y dependencia obl\n",
      "de/de => etiqueta ADP/ADP__AdpType=Prep y dependencia case\n",
      "la/lo => etiqueta DET/DET__Definite=Def|Gender=Fem|Number=Sing|PronType=Art y dependencia det\n",
      "Eurozona/Eurozona => etiqueta PROPN/PROPN___ y dependencia nmod\n",
      "que/que => etiqueta PRON/PRON__PronType=Rel y dependencia nsubj\n",
      "\n",
      "/\n",
      " => etiqueta SPACE/_SP y dependencia \n",
      "suspende/suspender => etiqueta VERB/VERB__Mood=Ind|Number=Sing|Person=3|Tense=Pres|VerbForm=Fin y dependencia acl\n",
      "y/y => etiqueta CONJ/CCONJ___ y dependencia cc\n",
      "sigue/seguir => etiqueta VERB/VERB__Mood=Ind|Number=Sing|Person=3|Tense=Pres|VerbForm=Fin y dependencia conj\n",
      "bajo/bajar => etiqueta ADP/ADP__AdpType=Prep y dependencia case\n",
      "vigilancia/vigilancia => etiqueta NOUN/NOUN__Gender=Fem|Number=Sing y dependencia obl\n",
      "./. => etiqueta PUNCT/PUNCT__PunctType=Peri y dependencia punct\n",
      "El/El => etiqueta DET/DET__Definite=Def|Gender=Masc|Number=Sing|PronType=Art y dependencia det\n",
      "Gobierno/Gobierno => etiqueta PROPN/PROPN___ y dependencia nsubj\n",
      "se/se => etiqueta PRON/PRON__Person=3 y dependencia obj\n",
      "salta/saltar => etiqueta VERB/VERB__Mood=Ind|Number=Sing|Person=3|Tense=Pres|VerbForm=Fin y dependencia ROOT\n",
      "finalmente/finalmente => etiqueta ADV/ADV___ y dependencia advmod\n",
      "el/el => etiqueta DET/DET__Definite=Def|Gender=Masc|Number=Sing|PronType=Art y dependencia det\n",
      "requisito/requerir => etiqueta NOUN/NOUN__Gender=Masc|Number=Sing y dependencia obj\n",
      "de/de => etiqueta ADP/ADP__AdpType=Prep y dependencia case\n",
      "saneamiento/saneamiento => etiqueta NOUN/NOUN__Gender=Masc|Number=Sing y dependencia nmod\n",
      "presupuestario/presupuestario => etiqueta ADJ/ADJ__Gender=Masc|Number=Sing y dependencia amod\n",
      "\n",
      "/\n",
      " => etiqueta SPACE/_SP y dependencia \n",
      "del/del => etiqueta ADP/ADP__AdpType=Preppron|Gender=Masc|Number=Sing y dependencia case\n",
      "Tratado/Tratado => etiqueta PROPN/PROPN___ y dependencia nmod\n",
      "de/de => etiqueta ADP/ADP__AdpType=Prep y dependencia case\n",
      "Maastricht/Maastricht => etiqueta PROPN/PROPN___ y dependencia flat\n",
      "y/y => etiqueta CONJ/CCONJ___ y dependencia cc\n",
      "obtiene/obtener => etiqueta VERB/VERB__Mood=Ind|Number=Sing|Person=3|Tense=Pres|VerbForm=Fin y dependencia conj\n",
      "así/asir => etiqueta ADV/ADV___ y dependencia advmod\n",
      "más/más => etiqueta ADV/ADV___ y dependencia advmod\n",
      "margen/margen => etiqueta NOUN/NOUN__Number=Sing y dependencia obj\n",
      "de/de => etiqueta ADP/ADP__AdpType=Prep y dependencia case\n",
      "gasto/gastar => etiqueta NOUN/NOUN__Gender=Masc|Number=Sing y dependencia nmod\n",
      "en/en => etiqueta ADP/ADP__AdpType=Prep y dependencia case\n",
      "2018/2018 => etiqueta NOUN/NOUN__AdvType=Tim y dependencia nmod\n",
      "./. => etiqueta PUNCT/PUNCT__PunctType=Peri y dependencia punct\n"
     ]
    }
   ],
   "source": [
    "for sentence in doc.sents:\n",
    "    for token in sentence:\n",
    "        print(\n",
    "            f\"{token}/{token.lemma_} => etiqueta {token.pos_}/{token.tag_} y dependencia {token.dep_}\"\n",
    "        )"
   ]
  },
  {
   "cell_type": "code",
   "execution_count": 6,
   "metadata": {},
   "outputs": [],
   "source": [
    "text = \"\"\"A United States citizen died from the coronavirus in Wuhan, China, American \n",
    "officials said on Saturday. It was the first known American death from the illness, \n",
    "and was likely to add to diplomatic frictions over Beijing’s response to the epidemic.\"\"\"\n",
    "\n",
    "# y procesamos el texto\n",
    "doc = nlp_es(text)"
   ]
  },
  {
   "cell_type": "code",
   "execution_count": 7,
   "metadata": {},
   "outputs": [
    {
     "name": "stdout",
     "output_type": "stream",
     "text": [
      "(United States, China, American \n",
      ", Saturday, It was the first known American death from the illness, Beijing’s)\n",
      "United States es de tipo ORG\n",
      "China es de tipo LOC\n",
      "American \n",
      " es de tipo ORG\n",
      "Saturday es de tipo MISC\n",
      "It was the first known American death from the illness es de tipo MISC\n",
      "Beijing’s es de tipo MISC\n"
     ]
    }
   ],
   "source": [
    "print(doc.ents)\n",
    "\n",
    "for entity in doc.ents:\n",
    "    print(f\"{entity} es de tipo {entity.label_}\")"
   ]
  },
  {
   "cell_type": "code",
   "execution_count": 8,
   "metadata": {},
   "outputs": [
    {
     "name": "stderr",
     "output_type": "stream",
     "text": [
      "/home/victor/.conda/envs/nlp/lib/python3.6/runpy.py:193: UserWarning: [W011] It looks like you're calling displacy.serve from within a Jupyter notebook or a similar environment. This likely means you're already running a local web server, so there's no need to make displaCy start another one. Instead, you should be able to replace displacy.serve with displacy.render to show the visualization.\n",
      "  \"__main__\", mod_spec)\n"
     ]
    },
    {
     "data": {
      "text/html": [
       "<!DOCTYPE html>\n",
       "<html lang=\"es\">\n",
       "    <head>\n",
       "        <title>displaCy</title>\n",
       "    </head>\n",
       "\n",
       "    <body style=\"font-size: 16px; font-family: -apple-system, BlinkMacSystemFont, 'Segoe UI', Helvetica, Arial, sans-serif, 'Apple Color Emoji', 'Segoe UI Emoji', 'Segoe UI Symbol'; padding: 4rem 2rem; direction: ltr\">\n",
       "<figure style=\"margin-bottom: 6rem\">\n",
       "<div class=\"entities\" style=\"line-height: 2.5; direction: ltr\">A \n",
       "<mark class=\"entity\" style=\"background: #7aecec; padding: 0.45em 0.6em; margin: 0 0.25em; line-height: 1; border-radius: 0.35em; box-decoration-break: clone; -webkit-box-decoration-break: clone\">\n",
       "    United States\n",
       "    <span style=\"font-size: 0.8em; font-weight: bold; line-height: 1; border-radius: 0.35em; text-transform: uppercase; vertical-align: middle; margin-left: 0.5rem\">ORG</span>\n",
       "</mark>\n",
       " citizen died from the coronavirus in Wuhan, \n",
       "<mark class=\"entity\" style=\"background: #ff9561; padding: 0.45em 0.6em; margin: 0 0.25em; line-height: 1; border-radius: 0.35em; box-decoration-break: clone; -webkit-box-decoration-break: clone\">\n",
       "    China\n",
       "    <span style=\"font-size: 0.8em; font-weight: bold; line-height: 1; border-radius: 0.35em; text-transform: uppercase; vertical-align: middle; margin-left: 0.5rem\">LOC</span>\n",
       "</mark>\n",
       ", \n",
       "<mark class=\"entity\" style=\"background: #7aecec; padding: 0.45em 0.6em; margin: 0 0.25em; line-height: 1; border-radius: 0.35em; box-decoration-break: clone; -webkit-box-decoration-break: clone\">\n",
       "    American \n",
       "\n",
       "    <span style=\"font-size: 0.8em; font-weight: bold; line-height: 1; border-radius: 0.35em; text-transform: uppercase; vertical-align: middle; margin-left: 0.5rem\">ORG</span>\n",
       "</mark>\n",
       "officials said on \n",
       "<mark class=\"entity\" style=\"background: #ddd; padding: 0.45em 0.6em; margin: 0 0.25em; line-height: 1; border-radius: 0.35em; box-decoration-break: clone; -webkit-box-decoration-break: clone\">\n",
       "    Saturday\n",
       "    <span style=\"font-size: 0.8em; font-weight: bold; line-height: 1; border-radius: 0.35em; text-transform: uppercase; vertical-align: middle; margin-left: 0.5rem\">MISC</span>\n",
       "</mark>\n",
       ". \n",
       "<mark class=\"entity\" style=\"background: #ddd; padding: 0.45em 0.6em; margin: 0 0.25em; line-height: 1; border-radius: 0.35em; box-decoration-break: clone; -webkit-box-decoration-break: clone\">\n",
       "    It was the first known American death from the illness\n",
       "    <span style=\"font-size: 0.8em; font-weight: bold; line-height: 1; border-radius: 0.35em; text-transform: uppercase; vertical-align: middle; margin-left: 0.5rem\">MISC</span>\n",
       "</mark>\n",
       ", </br>and was likely to add to diplomatic frictions over \n",
       "<mark class=\"entity\" style=\"background: #ddd; padding: 0.45em 0.6em; margin: 0 0.25em; line-height: 1; border-radius: 0.35em; box-decoration-break: clone; -webkit-box-decoration-break: clone\">\n",
       "    Beijing’s\n",
       "    <span style=\"font-size: 0.8em; font-weight: bold; line-height: 1; border-radius: 0.35em; text-transform: uppercase; vertical-align: middle; margin-left: 0.5rem\">MISC</span>\n",
       "</mark>\n",
       " response to the epidemic.</div>\n",
       "</figure>\n",
       "</body>\n",
       "</html>"
      ],
      "text/plain": [
       "<IPython.core.display.HTML object>"
      ]
     },
     "metadata": {},
     "output_type": "display_data"
    },
    {
     "name": "stdout",
     "output_type": "stream",
     "text": [
      "\n",
      "Using the 'ent' visualizer\n",
      "Serving on http://0.0.0.0:5000 ...\n",
      "\n",
      "Shutting down server on port 5000.\n"
     ]
    }
   ],
   "source": [
    "from spacy import displacy\n",
    "\n",
    "displacy.serve(doc, style=\"ent\")"
   ]
  },
  {
   "cell_type": "markdown",
   "metadata": {
    "Collapsed": "false"
   },
   "source": [
    "## flair\n",
    "\n",
    "[flair](https://github.com/flairNLP/flair) es un librería de NLP desarrollada por Zalando Research. Viene entrenada con [distintos modelos](https://github.com/flairNLP/flair/blob/master/resources/docs/TUTORIAL_2_TAGGING.md) para para tareas como:\n",
    "\n",
    "- etiquetar morfo-sintácticamente\n",
    "- extraer entidades\n",
    "- [clasificar automáticamente texto](https://towardsdatascience.com/text-classification-with-state-of-the-art-nlp-library-flair-b541d7add21f)\n",
    "- entrenar tus propios modelos para [construir otros clasificadores](https://towardsdatascience.com/text-classification-with-state-of-the-art-nlp-library-flair-b541d7add21f)\n",
    "- [cargar vectores de palabras en decenas de lenguas](https://github.com/zalandoresearch/flair/blob/master/resources/docs/TUTORIAL_3_WORD_EMBEDDING.md)\n",
    "- [usar vectores contextuales como BERT, ELMo](https://github.com/zalandoresearch/flair/blob/master/resources/docs/TUTORIAL_4_ELMO_BERT_FLAIR_EMBEDDING.md)\n",
    "\n"
   ]
  },
  {
   "cell_type": "code",
   "execution_count": 9,
   "metadata": {
    "Collapsed": "false"
   },
   "outputs": [
    {
     "name": "stdout",
     "output_type": "stream",
     "text": [
      "2020-02-08 14:51:13,442 loading file /home/victor/.flair/models/en-ner-fast-conll03-v0.4.pt\n"
     ]
    }
   ],
   "source": [
    "from flair.data import Sentence\n",
    "from flair.models import SequenceTagger\n",
    "\n",
    "# cargamos el reconocedor de entidades\n",
    "tagger = SequenceTagger.load(\"ner-fast\")"
   ]
  },
  {
   "cell_type": "code",
   "execution_count": 10,
   "metadata": {
    "Collapsed": "false"
   },
   "outputs": [
    {
     "data": {
      "text/plain": [
       "[Sentence: \"Behind closed doors, freshman Rep. Alexandria Ocasio-Cortez threatened to put those voting with Republicans “on a list” for a primary challenge in the 2020 election.\" - 25 Tokens]"
      ]
     },
     "execution_count": 10,
     "metadata": {},
     "output_type": "execute_result"
    }
   ],
   "source": [
    "# analizamos una oración\n",
    "sentence = Sentence(\n",
    "    \"\"\"Behind closed doors, freshman Rep. Alexandria Ocasio-Cortez threatened to put those voting with Republicans “on a list” for a primary challenge in the 2020 election.\"\"\"\n",
    ")\n",
    "\n",
    "tagger.predict(sentence)"
   ]
  },
  {
   "cell_type": "code",
   "execution_count": 11,
   "metadata": {
    "Collapsed": "false"
   },
   "outputs": [
    {
     "name": "stdout",
     "output_type": "stream",
     "text": [
      "Behind closed doors, freshman Rep. Alexandria <B-PER> Ocasio-Cortez <E-PER> threatened to put those voting with Republicans <S-MISC> “on a list” for a primary challenge in the 2020 election.\n"
     ]
    }
   ],
   "source": [
    "# imprimimos el análisis\n",
    "print(sentence.to_tagged_string())"
   ]
  },
  {
   "cell_type": "code",
   "execution_count": 12,
   "metadata": {
    "Collapsed": "false"
   },
   "outputs": [
    {
     "name": "stdout",
     "output_type": "stream",
     "text": [
      "PER-span [6,7]: \"Alexandria Ocasio-Cortez\"\n",
      "MISC-span [14]: \"Republicans\"\n"
     ]
    }
   ],
   "source": [
    "# iteramos por la entidades\n",
    "for entity in sentence.get_spans(\"ner\"):\n",
    "    print(entity)"
   ]
  },
  {
   "cell_type": "code",
   "execution_count": 13,
   "metadata": {
    "Collapsed": "false"
   },
   "outputs": [
    {
     "name": "stdout",
     "output_type": "stream",
     "text": [
      "{'text': 'Behind closed doors, freshman Rep. Alexandria Ocasio-Cortez threatened to put those voting with Republicans “on a list” for a primary challenge in the 2020 election.', 'labels': [], 'entities': [{'text': 'Alexandria Ocasio-Cortez', 'start_pos': 35, 'end_pos': 59, 'type': 'PER', 'confidence': 0.957447737455368}, {'text': 'Republicans', 'start_pos': 96, 'end_pos': 107, 'type': 'MISC', 'confidence': 0.9999040365219116}]}\n"
     ]
    }
   ],
   "source": [
    "# o imprimimos la estructura de datos con el análisis completo\n",
    "print(sentence.to_dict(tag_type=\"ner\"))"
   ]
  },
  {
   "cell_type": "markdown",
   "metadata": {
    "Collapsed": "false"
   },
   "source": [
    "## Datasets para NER\n",
    "\n",
    "- [CoNLL 2003](https://github.com/synalp/NER/tree/master/corpus/CoNLL-2003)\n",
    "- [OntoNotes](https://catalog.ldc.upenn.edu/docs/LDC2013T19/OntoNotes-Release-5.0.pdf)"
   ]
  },
  {
   "cell_type": "markdown",
   "metadata": {
    "Collapsed": "false"
   },
   "source": [
    "# Búsqueda de Respuestas\n",
    "\n",
    "La [búsqueda de respuestas](https://paperswithcode.com/task/question-answering) es la tarea de Procesamiento del Lenguaje que consiste en procesar una pregunta de entrada expresada en lenguaje natural y un contexto susceptible de contener una respuesta y estraer la respuesta concreta.\n",
    "\n",
    "Un sistema de búsqueda de respuesta se puede entender como la combinación de sistemas que resuelven otras tareas: un motor de búsqueda, un reconocedor de entidades y un sistema de extracción de información. \n",
    "\n",
    "![](../img/qa-system.png)\n",
    "\n",
    "\n",
    "La arquitectura por lo tanto es más compleja, pero podemos jugar con varios sistemas ya implementados:\n",
    "\n",
    "- [FacebookAI DrQA](https://github.com/facebookresearch/DrQA)\n",
    "- [DeepPavlov](https://demo.deeppavlov.ai/#/en/textqa/)\n",
    "- [Allen NLP Reading Comprenhension](https://demo.allennlp.org/reading-comprehension)"
   ]
  },
  {
   "cell_type": "markdown",
   "metadata": {
    "Collapsed": "false"
   },
   "source": [
    "## Datasets para QA\n",
    "\n",
    "- [Stanford Question Answering Dataset (SQuAD)](https://rajpurkar.github.io/SQuAD-explorer/)\n",
    "- [QuAC: Question Answering in Context](https://quac.ai/)\n",
    "- [Otras colecciones](https://github.com/facebookresearch/DrQA#qa-datasets)"
   ]
  }
 ],
 "metadata": {
  "kernelspec": {
   "display_name": "Python 3",
   "language": "python",
   "name": "python3"
  },
  "language_info": {
   "codemirror_mode": {
    "name": "ipython",
    "version": 3
   },
   "file_extension": ".py",
   "mimetype": "text/x-python",
   "name": "python",
   "nbconvert_exporter": "python",
   "pygments_lexer": "ipython3",
   "version": "3.6.10"
  }
 },
 "nbformat": 4,
 "nbformat_minor": 4
}
