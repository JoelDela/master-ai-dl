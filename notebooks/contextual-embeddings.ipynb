{
 "cells": [
  {
   "cell_type": "markdown",
   "metadata": {
    "Collapsed": "false"
   },
   "source": [
    "# Contextual Word Embeddings\n",
    "\n",
    "Como hemos visto, algoritmos como word2vec, GloVe o fastText aprenden a calcular de manera no supervisada representaciones continuas de palabras o de segmentos de palabras. Sin embargo, estas representaciones son estáticas y no tienen en cuenta los distintos significados que una misma palabra pueda tener.\n",
    "\n",
    "Y el lenguaje natural está repleto de ambigüedades, a varios niveles, y existen fenómenos como la **polisemia** y la **homografía**, que implican que una misma cadena de caracteres pueda tener más de un significado.\n",
    "\n",
    "- *banco*: de sentar, de crédito, de peces, de arena\n",
    "- *cubo*: de agua, operación matemática, figura geométrica\n",
    "- *planta*: arbusto, fábrica, del pie\n",
    "- *bajo*: nombre, adjetivo, preposición\n",
    "\n",
    "¿No sería más lógicp asignar diferentes embeddigs teniendo en cuenta los distintos significados?"
   ]
  },
  {
   "cell_type": "markdown",
   "metadata": {
    "Collapsed": "false"
   },
   "source": [
    "## ELMo: Embeddings from Language Models\n",
    "\n",
    "![](../img/elmo.gif)\n",
    "\n",
    "[ELMo](https://allennlp.org/elmo) (Peters et al., 2018) es una nueva técnica del [Allen Institue for AI](https://allennlp.org/) para calcular y asignar vectores de palabras de manera dinámica. ELMo procesa la oración de entrada completa y utiliza dos redes neuronales de tipo LSTM bidireccionales para calcular el embedding de cada palabra atendiendo tanto a su contexto anterior como posterior.\n",
    "\n",
    "Las representaciones que proporcina ELMo son:\n",
    "\n",
    "- contextuales: la representación de la palabra depende del contexto de uso\n",
    "- profundas: combinan la información de varias capas de las LSTM\n",
    "- basadas en caracteres\n",
    "\n",
    "El [entrenamiento de ELMo](https://jalammar.github.io/illustrated-bert/#elmo-context-matters) consiste en entrenar las redes neuronales para predecir cuál es la siguiente palabra atendiendo a una secuencia de palabras, lo que da como resultado un **modelo de lenguaje**. \n",
    "\n",
    "![](../img/elmo-training-lm.png)\n",
    "\n"
   ]
  },
  {
   "cell_type": "code",
   "execution_count": 1,
   "metadata": {
    "Collapsed": "false"
   },
   "outputs": [],
   "source": [
    "from flair.data import Sentence\n",
    "from flair.embeddings import ELMoEmbeddings\n",
    "\n",
    "# init embedding\n",
    "vectorizer = ELMoEmbeddings(\"small\")"
   ]
  },
  {
   "cell_type": "code",
   "execution_count": 2,
   "metadata": {
    "Collapsed": "false"
   },
   "outputs": [
    {
     "name": "stdout",
     "output_type": "stream",
     "text": [
      "Token: 1 The\n",
      "torch.Size([768])\n",
      "Token: 2 grass\n",
      "torch.Size([768])\n",
      "Token: 3 of\n",
      "torch.Size([768])\n",
      "Token: 4 my\n",
      "torch.Size([768])\n",
      "Token: 5 backyard\n",
      "torch.Size([768])\n",
      "Token: 6 is\n",
      "torch.Size([768])\n",
      "Token: 7 green.\n",
      "torch.Size([768])\n"
     ]
    }
   ],
   "source": [
    "# create a sentence\n",
    "sentence = Sentence(\"The grass of my backyard is green.\")\n",
    "\n",
    "# embed words in sentence\n",
    "vectorizer.embed(sentence)\n",
    "\n",
    "for token in sentence:\n",
    "    print(token)\n",
    "    print(token.embedding.shape)    "
   ]
  },
  {
   "cell_type": "code",
   "execution_count": 3,
   "metadata": {
    "Collapsed": "false"
   },
   "outputs": [
    {
     "name": "stdout",
     "output_type": "stream",
     "text": [
      "tensor([ 1.6606e-02,  7.5520e-01, -7.7605e-01, -1.0791e+00, -2.8273e-01,\n",
      "        -2.0459e+00, -4.2279e-01, -1.6099e+00, -1.1057e+00,  7.4563e-02,\n",
      "        -4.2388e-02,  1.0190e+00, -1.0276e+00,  9.1539e-01,  2.8064e-01,\n",
      "         6.5423e-01,  1.1907e-01, -2.8120e-01, -1.0971e+00,  9.9315e-01,\n",
      "         8.9839e-01, -1.6393e+00, -7.8819e-01,  1.5196e+00,  1.1673e+00,\n",
      "         2.0779e+00,  3.7563e-01,  1.0348e+00, -7.0916e-01, -1.1761e+00,\n",
      "         1.0162e+00, -1.5066e+00, -1.3568e-01, -2.9788e-01,  5.4068e-01,\n",
      "        -4.7304e-01,  1.4542e-02,  2.5410e-01, -9.8394e-01, -1.0382e+00,\n",
      "        -1.9017e+00,  3.3875e-01, -1.1373e+00, -6.8593e-01, -4.4742e-01,\n",
      "        -2.3079e-01,  1.4138e+00,  1.1357e+00,  1.7514e+00, -8.2770e-01,\n",
      "        -5.0497e-02, -2.2452e-01, -7.6329e-01,  1.6686e+00, -4.3314e-01,\n",
      "        -9.3304e-01, -1.7233e+00,  4.3276e-01, -2.6542e-03,  9.2423e-01,\n",
      "        -6.9861e-01,  1.5356e+00,  4.5903e-01, -1.1683e-01, -3.2010e-02,\n",
      "         4.1490e-01,  8.3858e-01, -9.7579e-01,  9.8020e-02,  3.1905e-01,\n",
      "        -7.1808e-01, -2.9268e-01,  9.1857e-01, -1.0321e+00, -7.5342e-01,\n",
      "         1.5088e+00,  1.6398e+00, -4.5492e-01,  7.5006e-01, -7.4896e-01,\n",
      "        -1.2791e+00, -9.4637e-01, -9.6063e-01,  8.0249e-01,  3.4118e-02,\n",
      "         7.7594e-01, -2.2802e+00,  1.3948e-01, -5.0644e-02,  2.0208e-02,\n",
      "        -9.9067e-01, -6.9113e-01,  9.4334e-01,  3.5455e-01, -1.3903e+00,\n",
      "        -8.0775e-01, -1.1305e+00,  1.2375e+00, -5.8425e-01, -1.9081e+00,\n",
      "        -3.7757e-01, -1.0558e+00,  3.3699e-01, -7.4787e-01,  1.0155e-01,\n",
      "         8.1063e-02, -5.6859e-01, -6.1725e-01,  4.2722e-01,  2.9941e+00,\n",
      "        -9.6488e-01,  1.0857e+00,  3.1079e-01,  5.0608e-02,  1.0618e+00,\n",
      "        -1.8618e+00, -1.2494e+00,  1.2988e+00, -1.6018e-01, -9.8345e-01,\n",
      "        -1.3718e+00,  4.0778e-01, -8.1872e-01,  7.7249e-01,  4.5470e-01,\n",
      "         9.7210e-01, -1.0941e+00,  6.7151e-01,  1.6606e-02,  7.5520e-01,\n",
      "        -7.7605e-01, -1.0791e+00, -2.8273e-01, -2.0459e+00, -4.2279e-01,\n",
      "        -1.6099e+00, -1.1057e+00,  7.4563e-02, -4.2388e-02,  1.0190e+00,\n",
      "        -1.0276e+00,  9.1539e-01,  2.8064e-01,  6.5423e-01,  1.1907e-01,\n",
      "        -2.8120e-01, -1.0971e+00,  9.9315e-01,  8.9839e-01, -1.6393e+00,\n",
      "        -7.8819e-01,  1.5196e+00,  1.1673e+00,  2.0779e+00,  3.7563e-01,\n",
      "         1.0348e+00, -7.0916e-01, -1.1761e+00,  1.0162e+00, -1.5066e+00,\n",
      "        -1.3568e-01, -2.9788e-01,  5.4068e-01, -4.7304e-01,  1.4542e-02,\n",
      "         2.5410e-01, -9.8394e-01, -1.0382e+00, -1.9017e+00,  3.3875e-01,\n",
      "        -1.1373e+00, -6.8593e-01, -4.4742e-01, -2.3079e-01,  1.4138e+00,\n",
      "         1.1357e+00,  1.7514e+00, -8.2770e-01, -5.0497e-02, -2.2452e-01,\n",
      "        -7.6329e-01,  1.6686e+00, -4.3314e-01, -9.3304e-01, -1.7233e+00,\n",
      "         4.3276e-01, -2.6542e-03,  9.2423e-01, -6.9861e-01,  1.5356e+00,\n",
      "         4.5903e-01, -1.1683e-01, -3.2010e-02,  4.1490e-01,  8.3858e-01,\n",
      "        -9.7579e-01,  9.8020e-02,  3.1905e-01, -7.1808e-01, -2.9268e-01,\n",
      "         9.1857e-01, -1.0321e+00, -7.5342e-01,  1.5088e+00,  1.6398e+00,\n",
      "        -4.5492e-01,  7.5006e-01, -7.4896e-01, -1.2791e+00, -9.4637e-01,\n",
      "        -9.6063e-01,  8.0249e-01,  3.4118e-02,  7.7594e-01, -2.2802e+00,\n",
      "         1.3948e-01, -5.0644e-02,  2.0208e-02, -9.9067e-01, -6.9113e-01,\n",
      "         9.4334e-01,  3.5455e-01, -1.3903e+00, -8.0775e-01, -1.1305e+00,\n",
      "         1.2375e+00, -5.8425e-01, -1.9081e+00, -3.7757e-01, -1.0558e+00,\n",
      "         3.3699e-01, -7.4787e-01,  1.0155e-01,  8.1063e-02, -5.6859e-01,\n",
      "        -6.1725e-01,  4.2722e-01,  2.9941e+00, -9.6488e-01,  1.0857e+00,\n",
      "         3.1079e-01,  5.0608e-02,  1.0618e+00, -1.8618e+00, -1.2494e+00,\n",
      "         1.2988e+00, -1.6018e-01, -9.8345e-01, -1.3718e+00,  4.0778e-01,\n",
      "        -8.1872e-01,  7.7249e-01,  4.5470e-01,  9.7210e-01, -1.0941e+00,\n",
      "         6.7151e-01, -5.1353e-01, -3.7772e-01,  3.8143e-01, -5.7063e-01,\n",
      "        -8.0896e-01,  6.9826e-01, -5.3945e-02,  3.6462e-01,  2.8103e-01,\n",
      "         4.0432e-01, -4.5923e-01, -3.8000e-02,  4.7657e-01, -7.8220e-01,\n",
      "         1.8031e-01,  3.2676e-01,  1.9078e-01, -1.6790e-01, -2.2423e-01,\n",
      "         7.4085e-01,  2.9844e-02, -1.6501e-01,  2.9548e-01,  1.2683e-01,\n",
      "         1.4053e-01, -6.1618e-02,  1.8949e-01, -1.9762e-01,  6.2205e-01,\n",
      "         1.9220e-01,  2.9138e-02,  6.5797e-01, -2.6906e-01, -6.2249e-01,\n",
      "         4.2113e-01,  2.5177e+00,  3.9373e-01, -2.3680e-01, -5.3163e-01,\n",
      "        -1.1047e-02,  1.3795e-01,  1.5616e-02,  4.7562e-02, -3.2169e-01,\n",
      "        -7.7045e-01, -3.9965e-01,  1.1924e+00, -5.2430e-01, -3.4972e-01,\n",
      "        -6.4603e-01,  7.6611e-01, -8.1493e-01,  1.4639e-01, -4.4484e-01,\n",
      "        -2.0459e-01, -1.9578e-01,  7.8303e-03, -1.1825e+00, -3.2250e-01,\n",
      "         3.3577e-01, -3.4612e-01, -3.4135e-01, -7.0486e-01, -8.0930e-02,\n",
      "         4.7347e-01, -1.5200e-01,  2.2611e-01, -6.5686e-02,  1.4213e-01,\n",
      "         5.2553e-01, -3.0663e-01, -6.1987e-01, -4.3096e-01, -2.3117e-01,\n",
      "        -2.3819e-01, -2.4974e-02, -7.9343e-01,  7.1746e-01, -4.1439e-01,\n",
      "         7.7438e-02,  2.1328e-01, -1.2332e-01,  1.2466e-01, -3.2915e-01,\n",
      "        -7.7395e-01, -3.0045e-02, -2.9508e-01,  3.2192e-01,  1.3688e-01,\n",
      "         4.9652e-01,  5.0131e-02, -1.5024e-01, -4.2214e-01,  9.9617e-02,\n",
      "        -1.6433e-01,  5.0649e-01, -4.2995e-01, -8.4435e-01,  4.8057e-01,\n",
      "         2.8636e-01, -1.0470e-01, -5.6818e-01, -3.3021e-01, -2.5067e-01,\n",
      "         9.2537e-03, -7.5172e-02, -7.3220e-01,  3.8876e-02,  7.6511e-02,\n",
      "        -2.2755e-01, -1.1533e-01,  1.8292e-01,  1.7981e-01,  6.6130e-01,\n",
      "        -1.6646e-01,  4.3007e-01,  2.5756e-01,  1.3189e-01,  1.6532e-01,\n",
      "         9.9899e-01,  4.4934e-01,  3.3202e-02,  6.4516e-01,  7.5303e-01,\n",
      "         4.3252e-01, -3.5180e-02,  9.7511e-02, -2.3054e-01,  2.1065e-01,\n",
      "         2.5507e-01, -7.4466e-02, -2.3381e-01, -1.2244e-01,  2.8629e-01,\n",
      "         4.7964e-01,  2.2342e-01, -3.8050e-01,  1.6660e-01,  1.9090e-01,\n",
      "         2.5392e-01,  4.3133e-02, -2.1222e-01, -4.8653e-02, -2.5617e-01,\n",
      "         1.6401e-01, -1.4312e-01,  1.4376e-01,  5.8843e-01,  5.9002e-01,\n",
      "         4.6029e-01,  1.2551e-01, -5.0190e-01, -9.5445e-02,  5.2910e-01,\n",
      "         8.0005e-03, -9.2512e-02,  4.3872e-01, -4.5865e-01, -4.5388e-01,\n",
      "         6.3184e-01, -2.1637e-01, -2.6580e-01,  4.5496e-01, -7.1935e-01,\n",
      "        -1.9007e-01,  2.0318e-02, -2.1926e-01,  9.2534e-02,  1.4184e-01,\n",
      "        -2.2545e-02,  6.8718e-03, -2.9425e-01,  1.0653e-01, -2.0863e-01,\n",
      "        -1.6550e-01,  7.7943e-01, -1.0935e-01,  4.3377e-02,  3.3455e-01,\n",
      "        -1.6451e-01,  7.9337e-01,  7.0529e-02, -1.2142e-01,  1.3391e-01,\n",
      "        -5.8744e-01, -1.1403e-01,  4.0383e-01, -2.6269e-01,  3.0256e-02,\n",
      "         5.3046e-01, -7.6060e-02, -1.4245e-01, -4.1959e-01, -3.4327e-01,\n",
      "         1.7684e-01, -3.1135e-01,  3.3708e-01,  3.1376e-01, -1.4313e-01,\n",
      "         7.3304e-01,  4.0638e-01,  3.4575e-01,  3.8886e-01, -5.4218e-01,\n",
      "         4.9030e-03, -6.3491e-01, -3.1726e-01, -1.9548e-01,  7.9634e-02,\n",
      "         2.2814e-01,  3.7792e-01,  1.2857e-01, -3.3859e-01,  3.3222e-01,\n",
      "         7.4611e-02,  2.6714e-01, -3.5242e-01, -1.1507e-01,  6.5567e-01,\n",
      "         1.0309e-01, -3.4938e-01,  1.9079e-01, -4.0234e-03,  1.3021e-01,\n",
      "        -1.5223e-01, -2.8421e-01,  1.5412e-01,  1.8025e-01,  8.8851e-01,\n",
      "        -1.4871e-01,  3.5747e-01, -9.3922e-02, -1.5746e-01, -3.8491e-02,\n",
      "        -9.3415e-02,  5.6709e-01,  4.0750e-01,  1.4898e-01,  1.0908e-01,\n",
      "         6.3627e-01,  6.4625e-01, -4.2290e-01,  3.2519e-01, -2.8170e-01,\n",
      "        -3.1261e-01, -1.9220e-01,  2.3909e-01,  2.3928e-01, -8.0753e-01,\n",
      "        -4.5285e-01,  1.0032e-01,  3.4992e-01,  3.7879e-02, -2.4363e-01,\n",
      "        -4.2778e-01, -3.2379e-01,  9.4393e-01,  4.2834e-01,  1.2062e-01,\n",
      "        -2.7942e-01, -3.1808e-01,  2.0173e-01, -1.3305e+00,  9.9410e-01,\n",
      "         2.2443e-01, -6.8448e-01, -9.6043e-01, -1.2156e+00, -7.4295e-02,\n",
      "        -1.0888e+00,  8.7868e-01, -5.4877e-01,  7.1945e-01, -4.6154e-01,\n",
      "         5.9589e-01,  1.1008e-01,  3.4224e-02,  6.2389e-01, -5.1102e-01,\n",
      "         3.5416e-01, -1.1351e+00, -3.7052e-01,  9.5047e-01, -3.6844e-01,\n",
      "         1.5514e-01,  9.8255e-02, -2.2651e-01,  4.8950e-01,  1.4986e+00,\n",
      "        -5.5604e-01,  1.2768e+00,  1.3610e+00, -8.0263e-01,  3.0863e-02,\n",
      "         8.5334e-02,  3.7419e-01, -1.6223e-01,  7.4023e-01,  2.7603e-01,\n",
      "        -4.8159e-01, -1.0643e+00, -9.6546e-01, -3.7250e-01, -1.3369e-01,\n",
      "        -2.6764e-01, -4.7308e-01,  1.7838e-01, -2.9960e-01,  1.4243e+00,\n",
      "        -1.8998e+00, -4.5345e-01, -9.8866e-01, -2.3081e-01, -9.4926e-01,\n",
      "         1.0724e-01,  8.0333e-01,  6.6945e-02,  1.3052e+00, -5.4439e-01,\n",
      "        -1.1762e-01, -8.0929e-01,  2.3290e-01,  1.1028e+00, -1.3157e+00,\n",
      "         3.3208e-02,  9.5891e-01, -6.8834e-01,  2.3356e+00, -6.2641e-01,\n",
      "        -9.9134e-03,  1.5593e-04, -5.2031e-01,  1.4673e-01,  1.0416e-01,\n",
      "        -1.0138e-01, -4.7642e-01,  1.1205e+00,  1.4912e+00,  1.0900e+00,\n",
      "        -6.5735e-01, -1.2451e-01, -2.0987e+00,  5.3890e-01,  1.0423e-01,\n",
      "        -2.1873e-01,  3.0501e-01,  6.8160e-01, -7.2113e-01, -7.1769e-01,\n",
      "         3.4660e-01,  1.7148e-01,  3.0307e-01, -7.0557e-01, -6.8272e-01,\n",
      "         3.3426e-01, -1.1487e+00,  6.8340e-01, -9.6911e-03, -4.5067e-01,\n",
      "        -4.7616e-01,  1.0929e+00, -7.9519e-02, -1.1467e+00,  1.3431e+00,\n",
      "         3.2489e-01, -1.3990e+00, -1.2287e+00,  9.3514e-01,  1.6288e+00,\n",
      "         8.0053e-01,  3.2433e-01,  2.0071e-01,  7.3362e-01,  8.1880e-01,\n",
      "         1.8395e-01,  3.5484e-01,  9.0176e-01,  1.0075e+00, -5.0529e-01,\n",
      "         1.4344e+00, -1.6620e-02,  6.6851e-01, -2.0382e-01,  4.5020e-01,\n",
      "         6.9054e-01,  7.0411e-01,  6.4711e-01,  6.4984e-01,  1.9045e-01,\n",
      "         1.5658e-01,  1.2710e+00,  8.3318e-01,  2.1218e-01,  5.7626e-02,\n",
      "         8.5098e-01,  8.2071e-01, -1.2841e-01, -1.1052e+00, -1.9837e-01,\n",
      "         4.8459e-02,  6.3127e-01,  6.6041e-02, -2.3839e-01,  6.6332e-01,\n",
      "         3.0735e-01,  2.0597e-01,  7.8524e-01, -7.6983e-01,  2.0223e-01,\n",
      "         3.3807e-01,  5.0837e-01, -4.2602e-01,  1.0134e-01, -3.6515e-01,\n",
      "        -7.5185e-03,  1.0240e+00,  1.9980e-01, -3.0402e-01,  3.9204e-01,\n",
      "         1.2260e+00, -2.7388e-02, -1.6353e-02, -5.8898e-01, -2.5708e-01,\n",
      "         4.1098e-01, -1.6838e-01,  3.5257e-01,  3.6520e-01, -1.8549e-01,\n",
      "         7.8627e-02, -3.8425e-01,  7.0730e-01,  7.7446e-01, -1.7188e-01,\n",
      "         3.2824e-01, -2.8406e-01,  1.4318e+00, -9.3208e-01, -8.8962e-02,\n",
      "        -3.7260e-01, -2.4813e-01, -1.5644e-01,  1.0994e-01,  5.0952e-01,\n",
      "        -2.0270e-01,  1.5403e+00, -1.1723e-02, -5.0300e-01, -8.2123e-01,\n",
      "        -1.0875e+00,  7.9751e-01, -1.7342e+00,  1.3672e-01,  2.7250e-01,\n",
      "         2.6184e-01,  1.5035e+00,  4.6269e-01,  5.2091e-01,  7.3289e-02,\n",
      "        -6.7893e-01, -3.7352e-01,  1.4932e-01,  4.2939e-01,  3.9677e-02,\n",
      "         1.5996e-01, -1.7818e-01,  1.4938e+00,  2.0130e-02, -3.3311e-01,\n",
      "         6.2590e-01,  4.2908e-01,  2.1348e-01,  1.9102e-02, -3.1911e-01,\n",
      "         1.0117e+00, -1.1445e+00, -5.9260e-01,  1.3554e-01, -1.6808e-01,\n",
      "         4.3867e-01,  2.3704e-02, -6.1139e-01,  2.2891e-01, -4.8885e-01,\n",
      "         6.9536e-01,  2.3792e-01, -1.4765e-01,  5.4336e-02, -1.7335e-01,\n",
      "        -3.4778e-01, -1.1806e-01,  9.7978e-01,  8.7004e-01, -5.2762e-01,\n",
      "        -1.0592e+00,  6.4260e-01,  4.1025e-01, -5.1921e-01,  3.5764e-01,\n",
      "        -7.3000e-01, -5.5725e-01, -4.1320e-01,  2.9919e-02, -2.9493e-01,\n",
      "        -2.7908e-01, -6.7372e-01,  5.7461e-01,  1.4984e+00, -6.6707e-01,\n",
      "        -5.8575e-01, -2.4135e-02,  5.1334e-01], device='cuda:0')\n"
     ]
    }
   ],
   "source": [
    "print(token.embedding)"
   ]
  },
  {
   "cell_type": "code",
   "execution_count": 4,
   "metadata": {
    "Collapsed": "false"
   },
   "outputs": [
    {
     "name": "stdout",
     "output_type": "stream",
     "text": [
      "Token: 1 The\n",
      "torch.Size([4096])\n",
      "Token: 2 grass\n",
      "torch.Size([4096])\n",
      "Token: 3 of\n",
      "torch.Size([4096])\n",
      "Token: 4 my\n",
      "torch.Size([4096])\n",
      "Token: 5 backyard\n",
      "torch.Size([4096])\n",
      "Token: 6 is\n",
      "torch.Size([4096])\n",
      "Token: 7 green.\n",
      "torch.Size([4096])\n"
     ]
    }
   ],
   "source": [
    "from flair.data import Sentence\n",
    "from flair.embeddings import FlairEmbeddings, StackedEmbeddings\n",
    "\n",
    "# init Flair embeddings\n",
    "flair_forward_embedding = FlairEmbeddings(\"multi-forward\")\n",
    "flair_backward_embedding = FlairEmbeddings(\"multi-backward\")\n",
    "\n",
    "# now create the StackedEmbedding object that combines all embeddings\n",
    "stacked_embeddings = StackedEmbeddings(\n",
    "    embeddings=[flair_forward_embedding, flair_backward_embedding]\n",
    ")\n",
    "\n",
    "sentence = Sentence(\"The grass of my backyard is green.\")\n",
    "\n",
    "# just embed a sentence using the StackedEmbedding as you would with any single embedding.\n",
    "stacked_embeddings.embed(sentence)\n",
    "\n",
    "# now check out the embedded tokens.\n",
    "for token in sentence:\n",
    "    print(token)\n",
    "    print(token.embedding.shape)"
   ]
  },
  {
   "cell_type": "code",
   "execution_count": 5,
   "metadata": {},
   "outputs": [
    {
     "data": {
      "text/plain": [
       "tensor([-3.4747e-02, -2.9276e-02,  6.9817e-06,  ..., -1.4460e-03,\n",
       "        -4.1155e-03,  1.2135e-01], device='cuda:0')"
      ]
     },
     "execution_count": 5,
     "metadata": {},
     "output_type": "execute_result"
    }
   ],
   "source": [
    "token.embedding"
   ]
  },
  {
   "cell_type": "markdown",
   "metadata": {
    "Collapsed": "false"
   },
   "source": [
    "## ULMFiT: Universal Language Model Fine-tuning for Text Classification\n",
    "\n",
    "[ULMFit](http://nlp.fast.ai/classification/2018/05/15/introducing-ulmfit.html), de [fast.ai](https://docs.fast.ai/), es otro de los modelos de lenguaje preentrenados que ha revolucionado el mundo del NLP al permitir implementar de manera muy sencilla técnicas de *transfer learning*.\n",
    "\n",
    "\n",
    "\n",
    "**¿Qué es el _Transfer Learning_?**\n",
    "\n",
    "La técnica de ML que consiste no en entrenar un modelo desde cero, sino en usar modelos generalistas pre-entrenados con grandes colecciones de datos y ajustarlos (haciendo *fine tuning*) para resolver una tarea concreta, usando muchos menos datos. \n",
    "\n",
    "Este tipo de técnicas se venían utilizando desde hace unos años en el mundo de la visión artificial y con la llegada de ULMFiT se popularizaron también tareas de procesamiento del lenguaje. [NLP's ImageNet moment has arrived](https://ruder.io/nlp-imagenet/), de Sebastian Ruder, es lectura imprescindible.\n",
    "\n",
    "Es un proceso **semi-supervisado** que se descompone en dos etapas: \n",
    "\n",
    "1. parte no supervisada para pre-entrenar un modelo de lenguaje generalista\n",
    "2. parte supervisada para ajustar el modelo a una tarea concreta (p. ej. clasificación de texto)\n",
    "\n",
    "En concreto, ULMFiT consiste una red recurrente bidireccional de tipo LSTM (*multi-layer bi-LSTM*) y utilizan algunas novedosas estrategias como:\n",
    "\n",
    "- *discriminative fine tuning*: durante la etapa de ajuste, en cada capa se aplica un tasa de aprendizaje diferente. Cada capa captura disinto tipo de información y no tiene sentido que las tasa de aprendizaje sea homogénea durante todo el proceso.\n",
    "\n",
    "- *slanted triangular learning rates (STLR)*: la tasa de aprendizaje se incrementa linealmente para luego descender (_short increase_ -> _long decay_).\n",
    "\n",
    "- *gradual unfreezing*: durante la etapa de entrenamiento para la tarea de clasificación, se van descongelando las distintas capas empezando por la última y de manera gradual."
   ]
  },
  {
   "cell_type": "code",
   "execution_count": 6,
   "metadata": {
    "Collapsed": "false"
   },
   "outputs": [
    {
     "name": "stdout",
     "output_type": "stream",
     "text": [
      "--2020-02-08 15:45:38--  https://raw.githubusercontent.com/sambit9238/Machine-Learning/master/question_topic.csv\n",
      "Resolving raw.githubusercontent.com (raw.githubusercontent.com)... 151.101.0.133, 151.101.64.133, 151.101.128.133, ...\n",
      "Connecting to raw.githubusercontent.com (raw.githubusercontent.com)|151.101.0.133|:443... connected.\n",
      "HTTP request sent, awaiting response... 200 OK\n",
      "Length: 923583 (902K) [text/plain]\n",
      "Saving to: ‘../data/question_topic.csv’\n",
      "\n",
      "../data/question_to 100%[===================>] 901.94K  --.-KB/s    in 0.03s   \n",
      "\n",
      "2020-02-08 15:45:38 (29.7 MB/s) - ‘../data/question_topic.csv’ saved [923583/923583]\n",
      "\n"
     ]
    }
   ],
   "source": [
    "!wget -O ../data/question_topic.csv https://raw.githubusercontent.com/sambit9238/Machine-Learning/master/question_topic.csv"
   ]
  },
  {
   "cell_type": "code",
   "execution_count": 7,
   "metadata": {
    "Collapsed": "false"
   },
   "outputs": [
    {
     "data": {
      "text/html": [
       "<div>\n",
       "<style scoped>\n",
       "    .dataframe tbody tr th:only-of-type {\n",
       "        vertical-align: middle;\n",
       "    }\n",
       "\n",
       "    .dataframe tbody tr th {\n",
       "        vertical-align: top;\n",
       "    }\n",
       "\n",
       "    .dataframe thead th {\n",
       "        text-align: right;\n",
       "    }\n",
       "</style>\n",
       "<table border=\"1\" class=\"dataframe\">\n",
       "  <thead>\n",
       "    <tr style=\"text-align: right;\">\n",
       "      <th></th>\n",
       "      <th>Unnamed: 0</th>\n",
       "      <th>question_text</th>\n",
       "      <th>question_topic</th>\n",
       "    </tr>\n",
       "  </thead>\n",
       "  <tbody>\n",
       "    <tr>\n",
       "      <th>1120</th>\n",
       "      <td>1120</td>\n",
       "      <td>I was wondering if the Corneliani trousers(Sty...</td>\n",
       "      <td>Product Specifications</td>\n",
       "    </tr>\n",
       "    <tr>\n",
       "      <th>4960</th>\n",
       "      <td>4960</td>\n",
       "      <td>Do you know if your stores typically have a de...</td>\n",
       "      <td>Omnichannel</td>\n",
       "    </tr>\n",
       "    <tr>\n",
       "      <th>2292</th>\n",
       "      <td>2292</td>\n",
       "      <td>If I were to order the Automatic Brow Pencil D...</td>\n",
       "      <td>Omnichannel</td>\n",
       "    </tr>\n",
       "    <tr>\n",
       "      <th>3346</th>\n",
       "      <td>3346</td>\n",
       "      <td>Do you know what the main difference between t...</td>\n",
       "      <td>Product Comparison</td>\n",
       "    </tr>\n",
       "    <tr>\n",
       "      <th>3870</th>\n",
       "      <td>3870</td>\n",
       "      <td>Do you know if there's a Macys store in Saraso...</td>\n",
       "      <td>Omnichannel</td>\n",
       "    </tr>\n",
       "    <tr>\n",
       "      <th>3538</th>\n",
       "      <td>3538</td>\n",
       "      <td>Which jacket is lighter- the Columbia rain jac...</td>\n",
       "      <td>Product Comparison</td>\n",
       "    </tr>\n",
       "    <tr>\n",
       "      <th>3240</th>\n",
       "      <td>3240</td>\n",
       "      <td>Im interested in both the Elegant Bicolor Rose...</td>\n",
       "      <td>Product Comparison</td>\n",
       "    </tr>\n",
       "    <tr>\n",
       "      <th>3533</th>\n",
       "      <td>3533</td>\n",
       "      <td>What kind of material lines this pin tuck skir...</td>\n",
       "      <td>Product Specifications</td>\n",
       "    </tr>\n",
       "    <tr>\n",
       "      <th>2005</th>\n",
       "      <td>2005</td>\n",
       "      <td>I was wondering if your stores have some kitch...</td>\n",
       "      <td>Omnichannel</td>\n",
       "    </tr>\n",
       "    <tr>\n",
       "      <th>4452</th>\n",
       "      <td>4452</td>\n",
       "      <td>I need a new filing cabinet. Do you have any i...</td>\n",
       "      <td>Product Availability</td>\n",
       "    </tr>\n",
       "  </tbody>\n",
       "</table>\n",
       "</div>"
      ],
      "text/plain": [
       "      Unnamed: 0                                      question_text  \\\n",
       "1120        1120  I was wondering if the Corneliani trousers(Sty...   \n",
       "4960        4960  Do you know if your stores typically have a de...   \n",
       "2292        2292  If I were to order the Automatic Brow Pencil D...   \n",
       "3346        3346  Do you know what the main difference between t...   \n",
       "3870        3870  Do you know if there's a Macys store in Saraso...   \n",
       "3538        3538  Which jacket is lighter- the Columbia rain jac...   \n",
       "3240        3240  Im interested in both the Elegant Bicolor Rose...   \n",
       "3533        3533  What kind of material lines this pin tuck skir...   \n",
       "2005        2005  I was wondering if your stores have some kitch...   \n",
       "4452        4452  I need a new filing cabinet. Do you have any i...   \n",
       "\n",
       "              question_topic  \n",
       "1120  Product Specifications  \n",
       "4960             Omnichannel  \n",
       "2292             Omnichannel  \n",
       "3346      Product Comparison  \n",
       "3870             Omnichannel  \n",
       "3538      Product Comparison  \n",
       "3240      Product Comparison  \n",
       "3533  Product Specifications  \n",
       "2005             Omnichannel  \n",
       "4452    Product Availability  "
      ]
     },
     "execution_count": 7,
     "metadata": {},
     "output_type": "execute_result"
    }
   ],
   "source": [
    "import fastai\n",
    "from fastai.text import *\n",
    "\n",
    "import pandas as pd\n",
    "from sklearn.model_selection import train_test_split\n",
    "\n",
    "df = pd.read_csv(\"../data/question_topic.csv\")\n",
    "train, val = train_test_split(df.sample(200))\n",
    "train.head(10)"
   ]
  },
  {
   "cell_type": "code",
   "execution_count": 8,
   "metadata": {
    "Collapsed": "false"
   },
   "outputs": [
    {
     "data": {
      "text/html": [],
      "text/plain": [
       "<IPython.core.display.HTML object>"
      ]
     },
     "metadata": {},
     "output_type": "display_data"
    },
    {
     "data": {
      "text/html": [],
      "text/plain": [
       "<IPython.core.display.HTML object>"
      ]
     },
     "metadata": {},
     "output_type": "display_data"
    }
   ],
   "source": [
    "# create a language model data bunch\n",
    "data_lm = TextLMDataBunch.from_df(\n",
    "    \".\", train, val, text_cols=\"question_text\", label_cols=\"question_topic\"\n",
    ")"
   ]
  },
  {
   "cell_type": "code",
   "execution_count": 9,
   "metadata": {
    "Collapsed": "false"
   },
   "outputs": [
    {
     "data": {
      "text/html": [
       "<table border=\"1\" class=\"dataframe\">\n",
       "  <thead>\n",
       "    <tr style=\"text-align: right;\">\n",
       "      <th>idx</th>\n",
       "      <th>text</th>\n",
       "    </tr>\n",
       "  </thead>\n",
       "  <tbody>\n",
       "    <tr>\n",
       "      <td>0</td>\n",
       "      <td>xxmaj if i were to order the xxmaj xxunk xxmaj xxunk xxmaj xxunk xxmaj xxunk from you online , but xxunk wanted to make a return , could i take it back to your store on xxunk xxmaj main xxmaj xxunk in xxmaj xxunk , xxup xxunk ? i was n't sure if that was xxunk . xxbos xxmaj do you know what the main difference between the xxmaj nook</td>\n",
       "    </tr>\n",
       "    <tr>\n",
       "      <td>1</td>\n",
       "      <td>'s a xxmaj xxunk store in xxmaj xxunk , xxup fl ? xxmaj do your stores usually have xxunk i could see in person ? xxbos xxmaj which jacket is lighter- the xxmaj xxunk xxunk jacket ( xxunk ) or the xxmaj vineyard xxunk ( xxunk ) ? xxmaj do you know if both are the same length ? xxbos i m interested in both the xxmaj elegant xxmaj xxunk</td>\n",
       "    </tr>\n",
       "    <tr>\n",
       "      <td>2</td>\n",
       "      <td>can both of these be xxunk xxunk when xxunk xxunk ? i would also like yellow xxunk , so is that an option for either of these ? xxbos xxmaj what kind of material xxunk this xxunk xxunk skirt ( xxunk ) ? xxmaj what 's the approximate length of this skirt ? xxbos i was wondering if your stores have some xxunk xxunk like xxunk and xxunk i could</td>\n",
       "    </tr>\n",
       "    <tr>\n",
       "      <td>3</td>\n",
       "      <td>xxbos i need a new filing cabinet . xxmaj do you have any in black to match my office ? xxmaj do you have any small xxup xxunk xxunk xxunk ? xxbos i 'm kind of a xxunk xxunk so i was wondering if you know of any promo codes i can use to buy a xxunk from you ? xxbos i m looking at the xxmaj xxunk xxmaj of</td>\n",
       "    </tr>\n",
       "    <tr>\n",
       "      <td>4</td>\n",
       "      <td>brush included ? xxmaj also , is the case xxunk included with the purchase ? xxbos xxmaj do you know the dimensions of the xxmaj xxunk xxmaj xxunk bag # xxunk ? xxbos i 'm looking to possibly order a xxunk xxunk supplement ( xxup sku # : xxunk ) but if i decide not to xxunk it after getting it , would it be possible to return for a</td>\n",
       "    </tr>\n",
       "  </tbody>\n",
       "</table>"
      ],
      "text/plain": [
       "<IPython.core.display.HTML object>"
      ]
     },
     "metadata": {},
     "output_type": "display_data"
    }
   ],
   "source": [
    "data_lm.show_batch()"
   ]
  },
  {
   "attachments": {
    "bert.jpg": {
     "image/jpeg": "[encoded data removed]"
    }
   },
   "cell_type": "markdown",
   "metadata": {
    "Collapsed": "false"
   },
   "source": [
    "## BERT: Bidirectional Encoder Representations from Transformers\n",
    "\n",
    "A finales de 2018, [Google Research presentó BERT](https://github.com/google-research/bert), un nuevo modelo de lenguaje basado en [Transformers](http://www.peterbloem.nl/blog/transformers).\n",
    "\n",
    "![bert.jpg](../img/bert.jpg)\n",
    "\n",
    "En los meses anteriores se había popularizado en el mundo del Deep Learning un método llamado *Attention*, por los buenísimos resultados que había cosechado en los sistemas de traducción automática. BERT está basado en una nueva arquitectura de DL llamada **Transformer**, que incorpora este mismo mecanismo de *self-attention* para entrenar redes neuronales más rápidamente.\n",
    "\n",
    "¿Qué otras características novedosas tiene [BERT](https://github.com/google-research/bert#what-is-bert)?\n",
    "\n",
    "- Es bidireccional: para generar representaciones de cada palabra se tiene en cuenta tanto el contexto anterior como el posterior. Y no combina dos modelos, uno de izquierda a derecha y otro en sentido contrario. Lo hace de una sola vez.\n",
    "- Para ello utiliza *masking* en algunos tokens y procesa la oración completa.\n",
    "- Es capaz de aprender relaciones entre oraciones, porque además de predecir las palabras enmascaradas aprende a predecir las siguiente oración. \n",
    "\n",
    "Hay varias maneras de acceder a los modelos de BERT pero mis favoritas son:\n",
    "\n",
    "- [bert as service](https://github.com/hanxiao/bert-as-service), de Tencent.\n",
    "- [transformers](https://github.com/huggingface/transformers), de Hugging Face 🤗"
   ]
  },
  {
   "cell_type": "code",
   "execution_count": 10,
   "metadata": {
    "Collapsed": "false"
   },
   "outputs": [
    {
     "name": "stdout",
     "output_type": "stream",
     "text": [
      "['[CLS]', 'All', 'results', 'on', 'the', 'paper', 'were', 'fine', '-', 'tuned', 'on', 'a', 'single', 'Cloud', 'T', '##P', '##U', '.', '[SEP]']\n"
     ]
    }
   ],
   "source": [
    "import torch\n",
    "from transformers import BertModel, BertTokenizer\n",
    "\n",
    "MODEL_NAME = \"bert-base-cased\"\n",
    "tokenizer = BertTokenizer.from_pretrained(MODEL_NAME)\n",
    "model = BertModel.from_pretrained(MODEL_NAME)\n",
    "\n",
    "text = \"All results on the paper were fine-tuned on a single Cloud TPU.\"\n",
    "token_ids = tokenizer.encode(text, add_special_tokens=True)\n",
    "tokens = tokenizer.convert_ids_to_tokens(token_ids, skip_special_tokens=False)\n",
    "\n",
    "print(tokens)"
   ]
  },
  {
   "cell_type": "code",
   "execution_count": 11,
   "metadata": {},
   "outputs": [
    {
     "name": "stdout",
     "output_type": "stream",
     "text": [
      "torch.Size([1, 19, 768])\n",
      "torch.Size([1, 768])\n",
      "tensor([[ 4.4163e-01,  5.8422e-02,  1.1946e-01, -1.8031e-01,  1.1388e-02,\n",
      "         -8.2559e-02,  3.9325e-02,  1.3530e-01, -6.1596e-02,  1.5442e-02,\n",
      "         -4.2820e-02,  2.9808e-02, -3.2356e-01,  2.7820e-01, -4.1276e-01,\n",
      "         -1.1658e-01,  2.5146e-01,  1.9457e-01,  5.0206e-02, -4.4770e-02,\n",
      "         -8.1117e-02,  2.0753e-02, -1.8020e-01, -2.3929e-01,  8.3760e-02,\n",
      "         -1.7777e-01,  3.4856e-01,  2.8665e-01, -2.4643e-01,  1.1700e-01,\n",
      "         -1.7115e-01,  1.2558e-01,  1.6205e-01, -1.2502e-01,  1.3458e-03,\n",
      "          2.6725e-01, -2.1077e-02,  1.2992e-01,  2.0528e-02,  2.1124e-01,\n",
      "          9.6128e-02,  3.5650e-02,  3.9275e-02, -3.1401e-02,  4.2724e-01,\n",
      "         -4.6763e-01, -4.1802e-03,  1.2663e-01, -4.1207e-01,  1.7302e-01,\n",
      "         -6.7888e-02,  9.2613e-02, -9.6752e-02,  4.3245e-01,  6.6522e-02,\n",
      "         -6.6467e-02, -1.8157e-01, -3.1009e-02,  5.5475e-02, -1.0225e-01,\n",
      "          1.6121e-01, -4.2238e-03,  4.0913e-01,  2.3229e-01,  1.2122e-01,\n",
      "         -4.2751e-02,  1.6049e-01, -3.1085e-01, -1.5764e-01, -3.4404e-01,\n",
      "         -7.8768e-02, -3.1708e-01, -4.1989e-02,  1.3252e-01,  2.4219e-01,\n",
      "         -8.0689e-02,  1.6860e-01,  3.7530e-01, -3.7786e-01, -4.2787e-02,\n",
      "          2.0277e-01,  2.0881e-01,  1.0959e-01,  3.0081e-01,  1.2521e-01,\n",
      "          3.0046e-01, -1.0476e-01, -1.6472e-01,  1.3391e-01,  5.9510e-01,\n",
      "          2.5765e-01, -1.1434e-01,  8.0700e-02, -1.0834e-01, -2.0273e-01,\n",
      "         -1.6937e-01, -1.5607e-01,  1.0717e-01,  3.6278e-01,  4.4836e-01,\n",
      "          2.5304e-01,  2.8944e-01,  1.6436e-01,  4.4425e-02,  1.8601e-01,\n",
      "         -1.6029e-01,  2.6862e-02, -5.2863e-01,  2.7180e-01,  2.7609e-01,\n",
      "          6.7017e-01, -2.4383e-01,  2.2638e-01, -8.6678e-02,  5.9747e-02,\n",
      "         -2.1623e-01,  1.7778e-01,  9.7826e-02, -1.1787e-01,  2.9779e-01,\n",
      "          3.3124e-01,  2.5383e-01, -6.5258e-02, -1.4393e-01,  2.9902e-01,\n",
      "          1.4674e-01, -1.1783e-01,  5.1343e-02,  1.3826e-01,  2.5584e-01,\n",
      "         -5.4221e-01, -7.1784e-02,  1.7100e-01,  1.4744e-01,  3.1720e-02,\n",
      "          2.7285e-01, -6.2135e-01,  6.0483e-02, -1.4406e+00, -3.8151e-01,\n",
      "         -2.0993e-02, -2.0902e-01,  3.6107e-02, -3.8718e-01,  3.4395e-01,\n",
      "          2.2295e-01, -1.6204e-01, -4.8167e-02, -2.2606e-03,  3.3423e-01,\n",
      "         -1.7093e-01,  4.5443e-02,  1.9485e-01, -1.4852e-01,  5.1954e-04,\n",
      "         -3.3723e-01,  1.7015e-01, -8.2495e-02,  2.1747e-01,  5.6374e-02,\n",
      "          1.7765e-01, -2.1573e-01, -1.2978e-01,  3.8789e-02, -5.5316e-02,\n",
      "         -1.0360e-01,  4.2889e-03, -1.2473e-01, -6.1701e-02,  1.4209e-01,\n",
      "          3.5824e-01, -3.3095e-01, -2.9598e-01,  8.2126e-02, -1.8352e-01,\n",
      "          7.4553e-02,  4.8567e-01, -1.6782e-01, -1.1449e-01,  1.2308e-01,\n",
      "          1.7973e-01, -2.4964e-01,  1.6170e-02, -3.8926e-01, -3.8681e-02,\n",
      "          6.0584e-02,  7.7034e-04, -9.2955e-02,  2.5102e-01, -1.0219e-01,\n",
      "          3.1786e-01,  1.1292e-01,  1.1085e-01, -3.6401e-02, -3.5958e-01,\n",
      "         -1.2724e-01, -5.6278e-02,  2.5433e-02,  3.5452e-01, -5.4079e-02,\n",
      "         -3.2798e-01, -2.0331e-01,  5.5743e-02,  2.8603e-01, -2.3192e-02,\n",
      "          8.4784e-02, -1.0971e-01,  1.7512e-01,  6.6153e-02, -4.5059e-01,\n",
      "          9.2045e-02, -2.1516e-01,  4.4642e-02, -4.6251e-03, -2.3997e-01,\n",
      "          4.7043e-02, -5.9475e-02, -9.1521e-02,  7.7253e-02,  8.8264e-02,\n",
      "         -7.7573e-02,  1.2657e-01,  5.3410e-01, -1.5921e-01, -2.1434e-01,\n",
      "          3.5353e-01,  6.2126e-01,  1.4295e-01,  1.7407e-01, -9.3596e-02,\n",
      "          3.3130e-03,  4.8579e-02,  8.9280e-02, -1.0566e-01,  2.0352e-01,\n",
      "         -4.5194e-01, -1.0450e-01,  2.8901e-01, -4.0593e-01, -3.7214e-04,\n",
      "         -3.1658e-02,  2.8218e-01,  1.4714e-01,  2.1681e-01,  3.9083e-02,\n",
      "          2.0688e-01,  1.8768e-01,  3.2172e-01, -2.2691e-01, -1.5684e-01,\n",
      "          1.4707e-01, -4.7488e-02, -5.0288e-02,  1.8740e-01,  6.9607e-02,\n",
      "         -2.8512e-02,  1.5717e-01, -2.8491e-01, -1.7281e-02, -1.6545e-01,\n",
      "         -2.3825e-02, -1.3323e-01,  9.6910e-02, -2.5542e-01, -2.5100e-01,\n",
      "         -4.3288e-01, -5.3294e-02, -8.3691e-02, -1.4482e-01,  3.1551e-01,\n",
      "          1.8787e-01, -2.3519e-01,  2.9879e-01, -1.9233e-01,  1.7767e-01,\n",
      "         -6.3523e-03,  2.6349e-01, -1.4765e-01, -1.2668e-02, -3.1203e-01,\n",
      "         -1.6232e-01,  2.8460e-01,  2.0990e-01,  3.7977e-01, -4.7197e-01,\n",
      "          3.2986e-01,  1.8551e-01,  2.3427e-01,  1.4961e-01,  4.7878e-01,\n",
      "          1.1883e-01,  9.0497e-03,  4.9360e-02, -2.9193e-01,  2.3473e-01,\n",
      "         -7.8139e-02, -2.6461e-01,  1.3609e-01,  1.9600e-01, -5.3261e-02,\n",
      "          4.4348e-01,  1.1550e-01, -7.9590e-02,  1.9275e-01, -7.1815e-01,\n",
      "         -2.8103e-01, -6.4727e-02,  1.8526e-01,  8.7133e-02, -5.4152e-03,\n",
      "          5.7953e-01,  2.0857e-01, -2.4496e-01, -9.9277e-02, -1.0756e-01,\n",
      "         -3.7591e-01, -1.7009e-01,  8.3174e-03,  5.7020e-03, -3.3271e-01,\n",
      "          3.9271e-01,  4.5013e-01, -4.0511e-01, -2.0624e-02, -1.5117e-02,\n",
      "          1.2292e-01, -1.3780e-01, -6.5665e-02,  2.3891e-01, -4.3020e-01,\n",
      "          4.8509e-02, -2.1704e-02, -1.5635e-01,  2.4904e-01,  2.2866e-03,\n",
      "          1.3506e-01, -8.3684e-03,  9.7372e-02, -1.4529e-01, -1.6446e-01,\n",
      "          3.2240e-01,  2.3791e-01,  1.7749e-02, -1.3752e-01,  1.9555e-01,\n",
      "          5.2729e-01,  5.3071e-02, -1.8011e-01,  7.0876e-02, -1.7930e-01,\n",
      "         -2.7175e-01, -1.7651e-01, -2.5538e-01,  9.7672e-02,  2.7838e-01,\n",
      "         -3.7067e-01,  3.9811e-02,  1.2130e-01,  7.4229e-02,  4.9886e-02,\n",
      "          2.5380e-02,  6.4720e-03,  2.6032e-01, -1.1323e-02, -1.0240e-01,\n",
      "         -1.4028e-01,  2.4275e-01,  1.2420e-01, -7.9573e-02,  4.4056e-01,\n",
      "          6.3091e-01,  1.5202e-01,  1.2110e-01,  1.2911e-01,  1.7245e-01,\n",
      "         -1.9117e-01, -1.6568e-02,  1.7587e-02,  2.0376e-01, -4.3409e-01,\n",
      "         -5.4993e-02,  1.1740e-01,  1.2482e-02,  1.9089e-01,  1.6848e-01,\n",
      "         -1.2747e-01,  1.3058e-01, -5.3143e-02,  3.3489e-01,  2.8143e-01,\n",
      "          2.3282e-01, -4.1052e-02,  5.8555e-02, -1.9533e-01, -2.0635e-01,\n",
      "          1.6321e-01, -3.8098e-01,  3.3828e-01,  1.1603e-01, -3.2002e-01,\n",
      "         -3.6673e-01,  1.5056e-01, -1.1067e-01, -1.3064e-01, -6.1737e-02,\n",
      "         -2.6462e-01, -1.5836e-01, -8.9519e-02, -2.3119e-01,  6.3614e-02,\n",
      "         -2.8530e-01, -3.3927e-01,  4.2989e-02,  7.4778e-02,  3.7141e-01,\n",
      "         -1.9830e-01,  2.2067e-01,  8.7540e-02,  1.2178e-01, -2.0669e-02,\n",
      "         -2.0677e-02,  1.7640e-01,  2.6665e-01, -7.8715e-02,  1.5515e-01,\n",
      "          1.9092e-01, -4.2269e-01,  1.3794e-01, -2.1712e-01, -2.9849e-06,\n",
      "         -1.3299e-01,  2.3356e-01,  1.5091e-01,  2.0772e-01, -1.6291e-01,\n",
      "         -1.1946e-01, -1.9728e-01,  2.8709e-01, -3.6886e-01, -1.1857e-01,\n",
      "         -5.7019e-02, -1.0902e-01, -8.9834e-02, -4.2914e-01,  3.2384e-02,\n",
      "          2.7398e-02, -1.1762e-01,  9.6375e-02,  2.5905e-01, -5.0466e-01,\n",
      "          8.9509e-02,  9.8364e-02, -4.1391e-02, -2.4139e-02,  5.4308e-02,\n",
      "         -3.9862e-01,  1.2918e-01, -9.8591e-02,  5.6088e-02,  3.0345e-01,\n",
      "         -3.3410e-01,  2.6258e-01,  3.2780e-02,  2.1072e-01,  5.8118e-01,\n",
      "          7.0686e-02,  1.0026e-01,  2.3130e-01, -3.1327e-01, -2.4589e-01,\n",
      "          5.9677e-02,  1.4647e-02,  1.4176e-01,  3.5950e-01, -2.0172e-01,\n",
      "         -1.5609e-01,  8.7970e-02,  4.5093e-02,  3.2036e-02, -3.8489e-01,\n",
      "         -4.4380e-02,  4.2226e-01, -3.9761e-01,  2.6373e-01,  4.4277e-01,\n",
      "          9.3805e-02,  7.9536e-02,  5.4791e-02,  1.7260e-01,  2.7677e-01,\n",
      "          1.8927e-01,  1.7771e-01, -5.2471e-01,  2.7175e-01, -1.2745e-02,\n",
      "         -1.0040e-01,  2.3801e-01,  2.0667e-01, -3.2031e-01,  1.3204e-01,\n",
      "         -4.2935e-01, -1.8984e-01, -3.5041e-01,  1.6649e-01,  2.6069e-01,\n",
      "          5.5644e-01, -1.1802e-01, -2.4921e-01,  8.3255e-02, -1.6854e-01,\n",
      "          2.2297e-01, -4.8956e-01, -1.0839e-01,  3.3692e-01, -1.1726e-02,\n",
      "         -1.9059e-01, -1.8218e-01, -1.2584e-01,  4.6847e-02, -8.6760e-02,\n",
      "          1.5525e-01, -1.2337e-01, -4.5546e-01, -3.0090e-02,  1.0701e-01,\n",
      "         -6.2183e-02,  3.3459e-01,  3.7950e-01, -1.3192e-02,  1.5415e-01,\n",
      "         -1.6019e-04, -5.2309e-02,  2.7745e-01, -2.8744e-01,  4.8551e-01,\n",
      "         -2.3302e-01, -9.1581e-02, -3.2823e-01,  1.3191e-01,  3.5697e-01,\n",
      "         -4.8633e-02, -3.1869e-02,  2.5403e-01, -4.1399e-02, -1.3009e-01,\n",
      "          1.8050e-03, -3.8103e-02,  1.4571e-02, -1.5273e-01,  8.4456e-03,\n",
      "         -3.9784e-02,  1.2648e-01, -2.7194e-01,  2.0620e-01,  1.5669e-01,\n",
      "          1.5329e-01, -4.1248e-01, -7.7533e+00, -3.4741e-02,  3.2387e-03,\n",
      "          1.8192e-01, -3.1645e-01,  4.0574e-02,  1.5087e-01,  2.2150e-01,\n",
      "         -6.3359e-02, -4.4178e-01, -2.2265e-03,  1.6124e-01, -2.0809e-01,\n",
      "          1.7468e-01, -1.8127e-01, -2.0024e-01, -2.2705e-01, -1.7932e-01,\n",
      "          4.0826e-02, -2.9964e-02,  1.0017e-01, -8.5441e-02,  8.1222e-02,\n",
      "          3.9645e-01,  2.1942e-03,  6.0439e-01,  6.9335e-02, -2.9017e-02,\n",
      "          4.9935e-01, -2.7519e-01, -7.1773e-02,  3.7816e-01,  1.7632e-03,\n",
      "         -8.3519e-03, -1.5415e-01, -2.1985e-01,  7.6537e-02, -2.8682e-01,\n",
      "          2.7629e-01, -5.0393e-01,  3.0608e-02, -7.1971e-02,  4.9669e-02,\n",
      "          1.9088e-01, -3.8866e-02,  6.3187e-02, -1.9382e-01, -3.0751e-01,\n",
      "         -1.5157e-01, -4.0007e-02,  9.2893e-01,  3.9320e-01, -4.3753e-02,\n",
      "          7.1939e-02, -3.2799e-01,  1.1262e-01, -1.1557e-01,  3.2079e-01,\n",
      "          3.0534e-01,  6.4489e-03, -2.2255e-01, -1.4273e-01,  3.9597e-01,\n",
      "         -2.2635e-01, -8.2838e-02,  9.6546e-02, -1.3774e-01, -2.4145e-01,\n",
      "         -2.6372e-01,  2.2483e-01, -2.2718e-01, -7.5882e-02,  2.1129e-01,\n",
      "         -3.6994e-01, -1.1779e-02, -1.0172e-01, -2.7347e-02,  2.2686e-01,\n",
      "         -2.4178e-01,  1.3756e-01, -2.4754e-01,  2.2322e-01,  1.7135e-01,\n",
      "         -1.6069e-01,  1.9881e-03, -3.6204e-03, -6.2626e-01, -2.1725e-01,\n",
      "          8.9251e-02,  1.1942e-01, -3.8121e-02,  1.4223e-03, -1.0570e-01,\n",
      "          5.6734e-02, -3.2125e-01, -1.8724e-01, -1.8988e-01, -1.2948e-01,\n",
      "         -2.0873e-01,  1.8311e-01, -2.2161e-01,  4.1880e-01, -1.7341e-01,\n",
      "         -1.0800e-01, -3.2836e-01, -1.8413e-01,  2.5727e-01, -1.8002e-01,\n",
      "          1.0887e-01, -1.1643e-01,  2.9189e-01, -1.8739e-01,  1.0413e-01,\n",
      "          3.1796e-01,  2.9960e-01,  1.7334e-01, -2.4935e-02, -8.5462e-03,\n",
      "          1.8576e-01,  2.6555e-01, -8.9202e-02,  7.5195e-02,  5.7042e-01,\n",
      "          1.9905e-01,  1.4370e-02, -1.9800e-01,  6.1080e-02, -4.0238e-01,\n",
      "         -1.6373e-01,  3.9105e-02,  3.6857e-02, -1.7369e-01, -5.5531e-01,\n",
      "          1.6524e-01, -1.0039e-01, -8.2724e-02,  9.0015e-03, -2.7551e-01,\n",
      "         -4.2925e-02,  2.5057e-01, -3.7843e-01,  2.5501e-01,  1.6022e-01,\n",
      "          9.1391e-02,  4.0892e-01, -1.3445e-01, -3.9015e-01, -3.0198e-01,\n",
      "          6.3676e-02,  2.9434e-01, -2.4218e-01,  1.6822e-01,  1.8171e-01,\n",
      "         -1.0791e-01,  5.2409e-02, -5.1636e-01, -8.6819e-02,  9.9193e-02,\n",
      "         -1.4241e-01,  2.7383e-02,  1.5899e-01,  2.1764e-01, -2.3390e-01,\n",
      "         -6.9923e-02, -1.7100e-01,  8.3911e-02, -2.0206e-01, -3.1967e-01,\n",
      "         -3.2839e-01,  1.6242e-01, -3.3492e-01,  2.9129e-01,  3.3994e-02,\n",
      "         -2.1713e-01, -1.1537e-01, -1.9084e-01, -1.0922e-01, -1.4244e-01,\n",
      "          9.8355e-02,  6.9334e-02,  3.3193e-01,  9.0076e-02, -2.0896e-01,\n",
      "         -3.6992e-01, -9.0028e-02, -1.8520e-01,  1.1989e-01, -1.0807e-01,\n",
      "         -3.8992e-02,  1.4805e-01,  1.6472e-02, -2.3556e-01, -3.8466e-01,\n",
      "          1.0092e-01,  5.6352e-01,  1.8454e-01, -1.5501e-01, -6.1415e-02,\n",
      "         -1.6066e-01,  2.7003e-01,  2.7377e-01,  1.6175e-01, -9.6761e-02,\n",
      "         -1.5765e-01, -1.7911e-01, -2.7965e-01, -2.6844e-02,  9.8763e-02,\n",
      "          2.1703e-01,  1.1291e-01,  8.0483e-02]])\n"
     ]
    }
   ],
   "source": [
    "input_ids = torch.tensor([token_ids])\n",
    "\n",
    "with torch.no_grad():\n",
    "    last_hidden_states = model(input_ids)[0]\n",
    "\n",
    "embedding = torch.mean(last_hidden_states, 1)\n",
    "\n",
    "print(last_hidden_states.shape)\n",
    "print(embedding.shape)\n",
    "print(embedding)"
   ]
  },
  {
   "cell_type": "code",
   "execution_count": 12,
   "metadata": {},
   "outputs": [
    {
     "name": "stdout",
     "output_type": "stream",
     "text": [
      "['[CLS]', 'El', 'colum', '##nist', '##a', 'analiza', 'las', 'elecciones', 'irlandesa', '##s', '[SEP]']\n"
     ]
    }
   ],
   "source": [
    "import torch\n",
    "from transformers import AutoModelWithLMHead, AutoTokenizer\n",
    "\n",
    "tokenizer = AutoTokenizer.from_pretrained(\"dccuchile/bert-base-spanish-wwm-cased\")\n",
    "model = AutoModelWithLMHead.from_pretrained(\"dccuchile/bert-base-spanish-wwm-cased\")\n",
    "\n",
    "text = \"El columnista analiza las elecciones irlandesas\"\n",
    "token_ids = tokenizer.encode(text, add_special_tokens=True)\n",
    "tokens = tokenizer.convert_ids_to_tokens(token_ids, skip_special_tokens=False)\n",
    "\n",
    "print(tokens)"
   ]
  },
  {
   "cell_type": "code",
   "execution_count": 13,
   "metadata": {
    "Collapsed": "false"
   },
   "outputs": [
    {
     "name": "stdout",
     "output_type": "stream",
     "text": [
      "torch.Size([1, 11, 31002])\n",
      "torch.Size([1, 31002])\n",
      "tensor([[-10.4347,  -6.4371,  -4.2830,  ...,  -0.6191,  -4.3811,   0.2589]])\n"
     ]
    }
   ],
   "source": [
    "input_ids = torch.tensor([token_ids])\n",
    "\n",
    "with torch.no_grad():\n",
    "    last_hidden_states = model(input_ids)[0]\n",
    "\n",
    "embedding = torch.mean(last_hidden_states, 1)\n",
    "\n",
    "print(last_hidden_states.shape)\n",
    "print(embedding.shape)\n",
    "print(embedding)"
   ]
  },
  {
   "cell_type": "markdown",
   "metadata": {},
   "source": [
    "## Ejercicio: Crea embeddings"
   ]
  },
  {
   "cell_type": "code",
   "execution_count": 14,
   "metadata": {},
   "outputs": [],
   "source": [
    "import numpy as np\n",
    "import torch\n",
    "from transformers import BertModel, BertTokenizer\n",
    "\n",
    "MODEL_NAME = \"bert-base-cased\"\n",
    "tokenizer = BertTokenizer.from_pretrained(MODEL_NAME)\n",
    "model = BertModel.from_pretrained(MODEL_NAME)\n",
    "\n",
    "def embed(text: str) -> torch.Tensor:\n",
    "    token_ids = tokenizer.encode(text, add_special_tokens=True)\n",
    "    tokens = tokenizer.convert_ids_to_tokens(token_ids, skip_special_tokens=False)\n",
    "    input_ids = torch.tensor([token_ids])\n",
    "\n",
    "    with torch.no_grad():\n",
    "        last_hidden_states = model(input_ids)[0]\n",
    "\n",
    "    embedding = torch.mean(last_hidden_states, 1)\n",
    "    return embedding[0].numpy()"
   ]
  },
  {
   "cell_type": "code",
   "execution_count": 15,
   "metadata": {},
   "outputs": [
    {
     "data": {
      "text/plain": [
       "(768,)"
      ]
     },
     "execution_count": 15,
     "metadata": {},
     "output_type": "execute_result"
    }
   ],
   "source": [
    "embedding = embed(\"Hello, my friend!\")\n",
    "embedding.shape"
   ]
  },
  {
   "cell_type": "code",
   "execution_count": 16,
   "metadata": {},
   "outputs": [],
   "source": [
    "def knn_search(text: str, k: int = 3) -> None:\n",
    "    \"\"\"Búsqueda basada en vecinos cercanos (KNN)\"\"\"\n",
    "    text_vec = embed(text)\n",
    "    score = np.sum(text_vec * doc_embeddings, axis=1) / np.linalg.norm(doc_embeddings, axis=1)\n",
    "    topk_idx = np.argsort(score)[::-1][:k]\n",
    "    for idx in topk_idx:\n",
    "        print(f\"{texts[idx]} -> {score[idx]}\")"
   ]
  },
  {
   "cell_type": "code",
   "execution_count": 17,
   "metadata": {},
   "outputs": [],
   "source": [
    "texts = [\n",
    "    \"Pizza and pasta are my favorite food!\", \n",
    "    \"I hate football\", \n",
    "    \"I have a blue Toyota Corolla.\", \n",
    "    \"I enjoy playing tennis.\",\n",
    "    \"I love ice-cream :-)\",\n",
    "    \"Green colorless ideas sleep furiously.\",\n",
    "    \"Relations between Washington and Beijing have been tense for years.\",\n",
    "    \"Chinese officials have criticized the United States.\",\n",
    "    \"U.S. Women's Team Qualifies for Olympic Soccer Tournament\"\n",
    "]\n",
    "\n",
    "doc_embeddings = [embed(t) for t in texts]"
   ]
  },
  {
   "cell_type": "code",
   "execution_count": 18,
   "metadata": {},
   "outputs": [
    {
     "name": "stdout",
     "output_type": "stream",
     "text": [
      "I have a blue Toyota Corolla. -> 8.926820755004883\n",
      "I enjoy playing tennis. -> 8.817132949829102\n",
      "I love ice-cream :-) -> 8.147653579711914\n"
     ]
    }
   ],
   "source": [
    "knn_search(\"I own a reliable Japanese car\")"
   ]
  },
  {
   "cell_type": "code",
   "execution_count": 19,
   "metadata": {},
   "outputs": [
    {
     "name": "stdout",
     "output_type": "stream",
     "text": [
      "I hate football -> 10.35401439666748\n",
      "I enjoy playing tennis. -> 10.283246994018555\n",
      "I love ice-cream :-) -> 8.12734317779541\n"
     ]
    }
   ],
   "source": [
    "knn_search(\"I love sports\")"
   ]
  },
  {
   "cell_type": "code",
   "execution_count": 22,
   "metadata": {},
   "outputs": [],
   "source": [
    "import pandas as pd\n",
    "\n",
    "df = pd.read_csv(\"../data/question_topic.csv\")\n",
    "texts = list(set(df[\"question_text\"]))[:1000]\n",
    "doc_embeddings = [embed(t) for t in texts]"
   ]
  },
  {
   "cell_type": "code",
   "execution_count": 23,
   "metadata": {},
   "outputs": [
    {
     "name": "stdout",
     "output_type": "stream",
     "text": [
      "I may want to get a new office chair from your website but if I don't like it in person, would I be able to return it for a Wayfair gift card? -> 9.230982780456543\n",
      "I'm considering ordering a new suitcase from your site. Do you have a promo code I could use on one? -> 9.160245895385742\n",
      "I may want to get a new office chair from your website but if I don't like it in person, would I be able to return it for a Pottery Barn gift card? -> 9.122479438781738\n"
     ]
    }
   ],
   "source": [
    "knn_search(\"I'd like to cancel of my order\")"
   ]
  },
  {
   "cell_type": "markdown",
   "metadata": {
    "Collapsed": "false"
   },
   "source": [
    "## Y más allá\n",
    "\n",
    "Cada día aparecen nuevos [modelos de lenguaje basados en BERT pre-entrenados en una lengua específica](https://twitter.com/seb_ruder/status/1221851361811128321).\n",
    "\n",
    "![](../img/specific-bert-models.png)\n",
    "\n",
    "Y modelos de lenguaje basados en otras arquitecturas. No es fácil seguir el ritmo.\n",
    "\n",
    "![](../img/lm-family.jpg)"
   ]
  },
  {
   "cell_type": "markdown",
   "metadata": {
    "Collapsed": "false"
   },
   "source": [
    "## Otras Referencias\n",
    "\n",
    "- [The Illustrated BERT, ELMo, and co. (How NLP Cracked Transfer Learning)](https://jalammar.github.io/illustrated-bert/)\n",
    "- [The Illustrated Transformer](https://jalammar.github.io/illustrated-transformer/)\n",
    "- [Transfer Learning in NLP](https://medium.com/explorations-in-language-and-learning/transfer-learning-in-nlp-2d09c3dfaeb6)\n",
    "- [Transfer Learning in NLP for Tweet Stance Classification](https://towardsdatascience.com/transfer-learning-in-nlp-for-tweet-stance-classification-8ab014da8dde)"
   ]
  }
 ],
 "metadata": {
  "kernelspec": {
   "display_name": "Python 3",
   "language": "python",
   "name": "python3"
  },
  "language_info": {
   "codemirror_mode": {
    "name": "ipython",
    "version": 3
   },
   "file_extension": ".py",
   "mimetype": "text/x-python",
   "name": "python",
   "nbconvert_exporter": "python",
   "pygments_lexer": "ipython3",
   "version": "3.6.10"
  }
 },
 "nbformat": 4,
 "nbformat_minor": 4
}
